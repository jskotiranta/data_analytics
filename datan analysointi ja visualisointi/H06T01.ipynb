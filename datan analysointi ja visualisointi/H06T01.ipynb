{
 "cells": [
  {
   "cell_type": "code",
   "execution_count": null,
   "id": "70357a33",
   "metadata": {},
   "outputs": [],
   "source": [
    "#H06T01\n",
    "#aikaleimojen generoiminen"
   ]
  },
  {
   "cell_type": "code",
   "execution_count": 144,
   "id": "70013730",
   "metadata": {},
   "outputs": [],
   "source": [
    "def saa(url):\n",
    "    import pandas as pd\n",
    "    from datetime import datetime\n",
    "    from datetime import timedelta\n",
    "    \n",
    "    df = pd.read_csv(url)\n",
    "    \n",
    "    #ensin luetaan datan aikaleima aikaleimaksi ja sortataan sen mukaan\n",
    "    df['aikaleima'] = pd.to_datetime(df['Unnamed: 0'])\n",
    "    df2 = df.sort_values('aikaleima', ascending=True).copy()\n",
    "    \n",
    "    #sitten lasketaan aikaleimojen erotus sekunteina ja siistitään hiukan\n",
    "    df2['aiempi'] = df2['aikaleima'].shift(1)\n",
    "    df2['erotus_s'] = (df2['aikaleima'] - df2['aiempi']).dt.total_seconds()\n",
    "    df2.fillna(0, inplace = True)\n",
    "    \n",
    "    #ja lopulta päästään sekuntien juoksevaan numerointiin alusta\n",
    "    df2['From start, s'] = df2['erotus_s'].cumsum()\n",
    "    \n",
    "    #haluttu indeksi\n",
    "    df2['hh.mm.ss'] = pd.to_datetime(df2['From start, s'], unit='s')\n",
    "    df2.index = df2['hh.mm.ss']\n",
    "    \n",
    "    #haluttu muotoilu\n",
    "    df2.index = df2.index.strftime(date_format = '%H.%M.%S')\n",
    "    \n",
    "    #poimitaan vain haluttu aikaväli ja sarakkeet nyt kätevästi indeksistä\n",
    "    tulos = df2['09.59.45':]\n",
    "    tulos = tulos[['From start, s', 'Pressure (msl), hPa']].head(5)\n",
    "    \n",
    "    return tulos"
   ]
  },
  {
   "cell_type": "code",
   "execution_count": 145,
   "id": "adcd474c",
   "metadata": {},
   "outputs": [
    {
     "name": "stdout",
     "output_type": "stream",
     "text": [
      "          From start, s  Pressure (msl), hPa\n",
      "hh.mm.ss                                    \n",
      "10.00.00        36000.0               1007.6\n",
      "10.01.00        36060.0               1007.6\n",
      "10.02.00        36120.0               1007.7\n",
      "10.03.00        36180.0               1007.6\n",
      "10.04.00        36240.0               1007.6\n"
     ]
    }
   ],
   "source": [
    "url = 'https://student.labranet.jamk.fi/~huoptu/datananal_s20/kerta6/harjoitukset/saatiedot.csv'\n",
    "print(saa(url))"
   ]
  },
  {
   "cell_type": "code",
   "execution_count": null,
   "id": "c634f4f5",
   "metadata": {},
   "outputs": [],
   "source": []
  }
 ],
 "metadata": {
  "kernelspec": {
   "display_name": "Python 3 (ipykernel)",
   "language": "python",
   "name": "python3"
  },
  "language_info": {
   "codemirror_mode": {
    "name": "ipython",
    "version": 3
   },
   "file_extension": ".py",
   "mimetype": "text/x-python",
   "name": "python",
   "nbconvert_exporter": "python",
   "pygments_lexer": "ipython3",
   "version": "3.8.12"
  }
 },
 "nbformat": 4,
 "nbformat_minor": 5
}
