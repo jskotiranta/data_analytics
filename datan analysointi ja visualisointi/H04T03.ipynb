{
 "cells": [
  {
   "cell_type": "code",
   "execution_count": null,
   "id": "9d3623f2",
   "metadata": {},
   "outputs": [],
   "source": [
    "#H04T03\n",
    "#autodatan ristiintaulukointi"
   ]
  },
  {
   "cell_type": "code",
   "execution_count": 195,
   "id": "d4cd2bb5",
   "metadata": {},
   "outputs": [],
   "source": [
    "def autot(url_a1, url_a2, url_b1, url_b2):\n",
    "    import pandas as pd\n",
    "    import numpy as np\n",
    "    \n",
    "    #yhdistetään a- ja b-datat...\n",
    "    dfa1 = pd.read_csv(url_a1, sep=';')\n",
    "    dfa2 = pd.read_csv(url_a2, sep=';')\n",
    "    dfa = pd.concat([dfa1,dfa2])\n",
    "    dfb1 = pd.read_csv(url_b1, sep=';')\n",
    "    dfb2 = pd.read_csv(url_b2, sep=';')\n",
    "    dfb = pd.concat([dfb1,dfb2])\n",
    "    \n",
    "    #...ja tehdään yksi df jonka kanssa jatketaan\n",
    "    df = pd.merge(dfa,dfb, on='ID')\n",
    "    df = df[['Mh','Ft','Enedc (g/km)']]\n",
    "    \n",
    "    #uudelleennimetään polttoaineet\n",
    "    d = {'DIESEL': 'Diesel', 'PETROL': 'Petrol'}\n",
    "    df.replace({'Ft': d}, inplace=True)\n",
    "    \n",
    "    #crosstabilla tehdään ristiintaulukointi\n",
    "    dfc = pd.crosstab(df['Mh'], df['Ft'], values=df['Enedc (g/km)'], aggfunc=np.mean)\n",
    "    \n",
    "    #yhden desimaalin tarkkuudella\n",
    "    pd.options.display.float_format = '{:.1f}'.format\n",
    "    \n",
    "    #dropataan ylimääräiset sarakkeet\n",
    "    dfc.drop('Electric', axis=1, inplace=True)\n",
    "    dfc.drop('NG', axis=1, inplace=True)\n",
    "    \n",
    "    #siistitään tulostus\n",
    "    tulos = dfc.head(5)\n",
    "    \n",
    "    return tulos"
   ]
  },
  {
   "cell_type": "code",
   "execution_count": 196,
   "id": "47a24302",
   "metadata": {},
   "outputs": [
    {
     "name": "stdout",
     "output_type": "stream",
     "text": [
      "Ft                   Diesel  Petrol\n",
      "Mh                                 \n",
      "AA-IVA                129.0   194.7\n",
      "AUTOMOBILES CITROEN   102.7   105.6\n",
      "FORD WERKE GMBH       112.9   133.7\n",
      "KIA                     NaN    88.0\n",
      "NISSAN                112.3   127.7\n"
     ]
    }
   ],
   "source": [
    "url_a1=\"https://student.labranet.jamk.fi/~huoptu/datananal_s20/kerta4/harjoitukset/autotA1.csv\"\n",
    "url_a2=\"https://student.labranet.jamk.fi/~huoptu/datananal_s20/kerta4/harjoitukset/autotA2.csv\"\n",
    "url_b1=\"https://student.labranet.jamk.fi/~huoptu/datananal_s20/kerta4/harjoitukset/autotB1.csv\"\n",
    "url_b2=\"https://student.labranet.jamk.fi/~huoptu/datananal_s20/kerta4/harjoitukset/autotB2.csv\"\n",
    "\n",
    "print(autot(url_a1, url_a2, url_b1, url_b2))"
   ]
  },
  {
   "cell_type": "code",
   "execution_count": null,
   "id": "f0e57eec",
   "metadata": {},
   "outputs": [],
   "source": []
  }
 ],
 "metadata": {
  "kernelspec": {
   "display_name": "Python 3 (ipykernel)",
   "language": "python",
   "name": "python3"
  },
  "language_info": {
   "codemirror_mode": {
    "name": "ipython",
    "version": 3
   },
   "file_extension": ".py",
   "mimetype": "text/x-python",
   "name": "python",
   "nbconvert_exporter": "python",
   "pygments_lexer": "ipython3",
   "version": "3.8.12"
  }
 },
 "nbformat": 4,
 "nbformat_minor": 5
}
