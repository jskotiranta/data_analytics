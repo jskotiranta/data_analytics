{
 "cells": [
  {
   "cell_type": "code",
   "execution_count": null,
   "id": "f4f9a611",
   "metadata": {},
   "outputs": [],
   "source": [
    "#H04T04\n",
    "#autodata monitasoiseksi frameksi"
   ]
  },
  {
   "cell_type": "code",
   "execution_count": 1,
   "id": "e94c83f5",
   "metadata": {},
   "outputs": [],
   "source": [
    "def autot(url_a1, url_a2, url_b1, url_b2):\n",
    "    import pandas as pd\n",
    "    \n",
    "    #yhdistetään a- ja b-datat...\n",
    "    dfa1 = pd.read_csv(url_a1, sep=';')\n",
    "    dfa2 = pd.read_csv(url_a2, sep=';')\n",
    "    dfa = pd.concat([dfa1,dfa2])\n",
    "    dfb1 = pd.read_csv(url_b1, sep=';')\n",
    "    dfb2 = pd.read_csv(url_b2, sep=';')\n",
    "    dfb = pd.concat([dfb1,dfb2])\n",
    "    \n",
    "    #...ja tehdään yksi df jonka kanssa jatketaan\n",
    "    df = pd.merge(dfa,dfb, on='ID')\n",
    "    df = df[['Mh','Ft','ec (cm3)']]\n",
    "    \n",
    "    #uudelleennimetään polttoaineet\n",
    "    d = {'DIESEL': 'Diesel', 'PETROL': 'Petrol'}\n",
    "    df.replace({'Ft': d}, inplace=True)\n",
    "    \n",
    "    #tehdään ristiintaulukointi\n",
    "    dfc = df.groupby(['Mh','Ft'])['ec (cm3)'].mean()\n",
    "    dfp = pd.DataFrame(dfc)\n",
    "    \n",
    "    #yksi desimaali\n",
    "    pd.options.display.float_format = '{:.1f}'.format\n",
    "    \n",
    "    #unstack ja valitaan kaksitasoisella indeksillä\n",
    "    tulos = dfp.unstack(level='Ft')\n",
    "    tulos = tulos[[('ec (cm3)',   'Diesel'), ('ec (cm3)',   'Petrol')]]\n",
    "    \n",
    "    #loppumuotoilu\n",
    "    tulos.fillna('no value', inplace=True)\n",
    "    tulos = tulos.head(10)\n",
    "    \n",
    "    return tulos"
   ]
  },
  {
   "cell_type": "code",
   "execution_count": 2,
   "id": "925599e2",
   "metadata": {},
   "outputs": [
    {
     "name": "stdout",
     "output_type": "stream",
     "text": [
      "                     ec (cm3)          \n",
      "Ft                     Diesel    Petrol\n",
      "Mh                                     \n",
      "AA-IVA                 1995.0    3596.0\n",
      "AUTOMOBILES CITROEN    1560.0    1131.0\n",
      "FORD WERKE GMBH        1615.1    1291.5\n",
      "KIA                  no value    1580.0\n",
      "NISSAN                 1559.4    1247.5\n",
      "SKODA                  1799.5    1190.6\n",
      "TESLA                no value  no value\n"
     ]
    }
   ],
   "source": [
    "url_a1=\"https://student.labranet.jamk.fi/~huoptu/datananal_s20/kerta4/harjoitukset/autotA1.csv\"\n",
    "url_a2=\"https://student.labranet.jamk.fi/~huoptu/datananal_s20/kerta4/harjoitukset/autotA2.csv\"\n",
    "url_b1=\"https://student.labranet.jamk.fi/~huoptu/datananal_s20/kerta4/harjoitukset/autotB1.csv\"\n",
    "url_b2=\"https://student.labranet.jamk.fi/~huoptu/datananal_s20/kerta4/harjoitukset/autotB2.csv\"\n",
    "\n",
    "print(autot(url_a1, url_a2, url_b1, url_b2))"
   ]
  },
  {
   "cell_type": "code",
   "execution_count": null,
   "id": "d48c7e24",
   "metadata": {},
   "outputs": [],
   "source": []
  }
 ],
 "metadata": {
  "kernelspec": {
   "display_name": "Python 3 (ipykernel)",
   "language": "python",
   "name": "python3"
  },
  "language_info": {
   "codemirror_mode": {
    "name": "ipython",
    "version": 3
   },
   "file_extension": ".py",
   "mimetype": "text/x-python",
   "name": "python",
   "nbconvert_exporter": "python",
   "pygments_lexer": "ipython3",
   "version": "3.8.12"
  }
 },
 "nbformat": 4,
 "nbformat_minor": 5
}
