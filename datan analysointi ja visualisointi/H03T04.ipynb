{
 "cells": [
  {
   "cell_type": "code",
   "execution_count": null,
   "id": "b7abbecc",
   "metadata": {},
   "outputs": [],
   "source": [
    "#H03T04\n",
    "#päästöjen summaaminen"
   ]
  },
  {
   "cell_type": "code",
   "execution_count": 164,
   "id": "bd0503c9",
   "metadata": {},
   "outputs": [],
   "source": [
    "def emissions(url):\n",
    "    import pandas as pd\n",
    "    \n",
    "    #tehdään taas frame huonosti muotoillusta tiedostosta\n",
    "    df = pd.read_csv(url, sep='\\t', engine='python')\n",
    "    sarake = 'country\\tcountry_code\\tETS information\\tmain activity sector name\\tunit\\tvalue\\tyear'\n",
    "    splittaus = df[sarake].str.split('\\t').str\n",
    "    uusi_df_pohja = {'main activity sector': splittaus[3], 'value' : splittaus[5], 'year' : splittaus[6]}\n",
    "    df1 = pd.DataFrame(uusi_df_pohja)\n",
    "    \n",
    "    #poistetaan halutut rivit\n",
    "    df1.drop(df1.loc[df1['main activity sector'] == '20-99 All stationary installations'].index, inplace=True)\n",
    "    df1.drop(df1.loc[df1['main activity sector'] == '21-99 All industrial installations (excl. combustion)'].index, inplace=True)\n",
    "    \n",
    "    #poimitaan uuteen frameen halutut vuodet\n",
    "    #aluksi sarake täytyy muuttaa numeeriseksi että vertailu onnistuu\n",
    "    df1['year'] = pd.to_numeric(df1['year'], errors = 'coerce')\n",
    "    df2 = df1.loc[df1['year'] >= 2010]\n",
    "    df2 = df2.loc[df1['year'] <= 2015]\n",
    "    \n",
    "    #lasketaan eri päästölähteiden summat uuteen frameen\n",
    "    df2['value'] = pd.to_numeric(df2['value'], errors = 'coerce')\n",
    "    df3 = df2.groupby(['main activity sector'], as_index=False)['value'].sum()\n",
    "    df3.sort_values('value', ascending=False, inplace=True)\n",
    "    \n",
    "    #vaadittua tulostusta varten nimetään sarake uudelleen\n",
    "    df3.rename(columns = {'main activity sector': 'sector'}, inplace=True)\n",
    "    \n",
    "    #automaattitarkistusta varten pitää saada vielä eksponenttimuotoon\n",
    "    df3['value'] = df3['value'].map('{:e}'.format)\n",
    "    \n",
    "    #ja muotoillaan lopullinen tuloste\n",
    "    tulos = df3[['value','sector']].head(5)\n",
    "    \n",
    "    return tulos"
   ]
  },
  {
   "cell_type": "code",
   "execution_count": 165,
   "id": "4cc87998",
   "metadata": {},
   "outputs": [
    {
     "name": "stdout",
     "output_type": "stream",
     "text": [
      "           value                               sector\n",
      "1   1.674428e+10               20 Combustion of fuels\n",
      "5   2.135161e+09  24  Production of pig iron or steel\n",
      "10  1.859209e+09      29 Production of cement clinker\n",
      "2   1.714291e+09          21  Refining of mineral oil\n",
      "0   6.699978e+08                          10 Aviation\n"
     ]
    }
   ],
   "source": [
    "#url=\"https://student.labranet.jamk.fi/~huoptu/datananal_s20/kerta3/harjoitukset/ETS_Database_v38A.csv\"\n",
    "url=\"https://student.labranet.jamk.fi/~huoptu/datananal_s20/kerta3/harjoitukset/ETS_Database_v38B.csv\"\n",
    "print(emissions(url))"
   ]
  },
  {
   "cell_type": "code",
   "execution_count": null,
   "id": "6a0a167f",
   "metadata": {},
   "outputs": [],
   "source": []
  }
 ],
 "metadata": {
  "kernelspec": {
   "display_name": "Python 3 (ipykernel)",
   "language": "python",
   "name": "python3"
  },
  "language_info": {
   "codemirror_mode": {
    "name": "ipython",
    "version": 3
   },
   "file_extension": ".py",
   "mimetype": "text/x-python",
   "name": "python",
   "nbconvert_exporter": "python",
   "pygments_lexer": "ipython3",
   "version": "3.8.12"
  }
 },
 "nbformat": 4,
 "nbformat_minor": 5
}
