{
 "cells": [
  {
   "cell_type": "code",
   "execution_count": null,
   "id": "b11ef852",
   "metadata": {},
   "outputs": [],
   "source": [
    "#H04T01\n",
    "#yleisimmät automerkit"
   ]
  },
  {
   "cell_type": "code",
   "execution_count": 72,
   "id": "cd233677",
   "metadata": {},
   "outputs": [],
   "source": [
    "def autot(url1, url2):\n",
    "    import pandas as pd\n",
    "    \n",
    "    #luetaan data ja yhdistetään framet\n",
    "    df1 = pd.read_csv(url1, sep=';')\n",
    "    df2 = pd.read_csv(url2, sep=';')\n",
    "    df3 = pd.merge(df1,df2, how='outer')\n",
    "    \n",
    "    #Nyt kiinnostaa vain automerkit\n",
    "    tulos = df3['Cn'].value_counts()\n",
    "    \n",
    "    #lopputulokseen poimitaan vain viisi ensimmäistä\n",
    "    tulos = tulos.head(5)\n",
    "    \n",
    "    return tulos"
   ]
  },
  {
   "cell_type": "code",
   "execution_count": 73,
   "id": "e27ed4b7",
   "metadata": {},
   "outputs": [
    {
     "name": "stdout",
     "output_type": "stream",
     "text": [
      "OCTAVIA    396\n",
      "FABIA      377\n",
      "RAPID      197\n",
      "SUPERB     159\n",
      "KAROQ      148\n",
      "Name: Cn, dtype: int64\n"
     ]
    }
   ],
   "source": [
    "url1 = \"https://student.labranet.jamk.fi/~huoptu/datananal_s20/kerta4/harjoitukset/autotA1.csv\"\n",
    "url2 = \"https://student.labranet.jamk.fi/~huoptu/datananal_s20/kerta4/harjoitukset/autotA2.csv\"\n",
    "\n",
    "#url1 = \"https://student.labranet.jamk.fi/~huoptu/datananal_s20/kerta4/harjoitukset/autotA3.csv\"\n",
    "#url2 = \"https://student.labranet.jamk.fi/~huoptu/datananal_s20/kerta4/harjoitukset/autotA4.csv\"\n",
    "\n",
    "print(autot(url1,url2))"
   ]
  },
  {
   "cell_type": "code",
   "execution_count": null,
   "id": "b0d1bc7b",
   "metadata": {},
   "outputs": [],
   "source": []
  }
 ],
 "metadata": {
  "kernelspec": {
   "display_name": "Python 3 (ipykernel)",
   "language": "python",
   "name": "python3"
  },
  "language_info": {
   "codemirror_mode": {
    "name": "ipython",
    "version": 3
   },
   "file_extension": ".py",
   "mimetype": "text/x-python",
   "name": "python",
   "nbconvert_exporter": "python",
   "pygments_lexer": "ipython3",
   "version": "3.8.12"
  }
 },
 "nbformat": 4,
 "nbformat_minor": 5
}
