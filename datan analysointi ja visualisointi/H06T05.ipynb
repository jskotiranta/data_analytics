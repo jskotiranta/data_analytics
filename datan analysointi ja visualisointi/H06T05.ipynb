{
 "cells": [
  {
   "cell_type": "code",
   "execution_count": null,
   "id": "66a72484",
   "metadata": {},
   "outputs": [],
   "source": [
    "#H06T05\n",
    "#aikasarjojen yhdistäminen"
   ]
  },
  {
   "cell_type": "code",
   "execution_count": 1,
   "id": "9bf4b944",
   "metadata": {},
   "outputs": [],
   "source": [
    "def tempdiff(url1, url2):\n",
    "    import pandas as pd\n",
    "    from datetime import timedelta\n",
    "\n",
    "    #ensimmäinen datasetti\n",
    "    df1 = pd.read_csv(url1, sep=',', parse_dates=[\"Unnamed: 0\"], dayfirst=False)\n",
    "    df1 = pd.DataFrame(df1[['Unnamed: 0','Air temperature, degC']])\n",
    "    df1.rename(columns={'Unnamed: 0':'timestamp_1', 'Air temperature, degC': 'Temp_1, C-deg'}, inplace=True)\n",
    "    df1.set_index(keys='timestamp_1', inplace=True)\n",
    "    df1.sort_index(ascending=True, inplace=False)\n",
    "    \n",
    "    #toinen datasetti on hiukan erilainen\n",
    "    df2 = pd.read_csv(url2, sep='\\t')\n",
    "    alku = pd.to_datetime('2020-11-05 08:40:00') #asetetaan alkuhetki\n",
    "    df2['timestamp_2'] = alku + pd.to_timedelta(df2['time, s'], unit='s') #ja lasketaan aika siihen päälle\n",
    "    df2.rename(columns={'Temp, C-deg':'Temp_2, C-deg'}, inplace=True)\n",
    "    df2 = df2[['timestamp_2','Temp_2, C-deg']]\n",
    "    df2.set_index(keys='timestamp_2', inplace=True)\n",
    "    df2.sort_index(ascending=True, inplace=False)\n",
    "    \n",
    "    #yhdistetään joinimalla\n",
    "    df = df1.join(other=df2, how='outer', sort=True)\n",
    "    \n",
    "    #täytetään nanit ja lasketaan...\n",
    "    df['Temp_1, C-deg'] = df['Temp_1, C-deg'].fillna(method='ffill')\n",
    "    df['Temp_2, C-deg'] = df['Temp_2, C-deg'].fillna(method='ffill')\n",
    "    \n",
    "    #...erotus ja liukuva keskiarvo\n",
    "    df['Temp_diff, C-deg'] = df['Temp_2, C-deg'] - df['Temp_1, C-deg']\n",
    "    df['Temp_roll, C-deg'] = df['Temp_diff, C-deg'].rolling(window='3h').mean()\n",
    "    \n",
    "    #lopuksi haluttu muotoilu\n",
    "    df = df.applymap('{:.3f}'.format)\n",
    "    \n",
    "    #ja pyydetty tuloste\n",
    "    tulos = df.loc['2020-11-05 12:59:00':,['Temp_diff, C-deg','Temp_roll, C-deg']].head(5)\n",
    "    \n",
    "    return tulos"
   ]
  },
  {
   "cell_type": "code",
   "execution_count": 2,
   "id": "293ec088",
   "metadata": {},
   "outputs": [
    {
     "name": "stdout",
     "output_type": "stream",
     "text": [
      "                    Temp_diff, C-deg Temp_roll, C-deg\n",
      "2020-11-05 13:00:00           12.590           12.623\n",
      "2020-11-05 13:01:00           12.590           12.620\n",
      "2020-11-05 13:02:00           12.590           12.617\n",
      "2020-11-05 13:03:00           12.590           12.614\n",
      "2020-11-05 13:03:59           12.590           12.611\n"
     ]
    }
   ],
   "source": [
    "url1 = \"https://student.labranet.jamk.fi/~huoptu/datananal_s20/kerta6/harjoitukset/saatiedot_kumpula_1d.csv\"\n",
    "url2 = \"https://student.labranet.jamk.fi/~huoptu/datananal_s20/kerta6/harjoitukset/indoormeas.csv\"\n",
    "\n",
    "print(tempdiff(url1, url2))"
   ]
  },
  {
   "cell_type": "code",
   "execution_count": null,
   "id": "912a85eb",
   "metadata": {},
   "outputs": [],
   "source": []
  }
 ],
 "metadata": {
  "kernelspec": {
   "display_name": "Python 3 (ipykernel)",
   "language": "python",
   "name": "python3"
  },
  "language_info": {
   "codemirror_mode": {
    "name": "ipython",
    "version": 3
   },
   "file_extension": ".py",
   "mimetype": "text/x-python",
   "name": "python",
   "nbconvert_exporter": "python",
   "pygments_lexer": "ipython3",
   "version": "3.8.12"
  }
 },
 "nbformat": 4,
 "nbformat_minor": 5
}
