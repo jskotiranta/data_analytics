{
 "cells": [
  {
   "cell_type": "code",
   "execution_count": 1,
   "metadata": {},
   "outputs": [],
   "source": [
    "#H01T04\n",
    "#noudetaan mittaustiedot urlin takaa ja\n",
    "#suodatetaan sitä"
   ]
  },
  {
   "cell_type": "code",
   "execution_count": 5,
   "metadata": {},
   "outputs": [],
   "source": [
    "def mittaustiedot(url):\n",
    "    import pandas as pd\n",
    "    \n",
    "    #noudetaan data ja tehdään frame\n",
    "    data = pd.read_csv(url)\n",
    "    df = pd.DataFrame(data)\n",
    "    \n",
    "    #vertailulämpötila annettiin tehtävän annossa...\n",
    "    t_vert = 3.5698466100380903\n",
    "    #mutta voisi hakea myös yksittäisen arvon siten että...\n",
    "    #v = 2010\n",
    "    #kk = 10\n",
    "    #pv = 1\n",
    "    #raja = df[(df['Vuosi'] == v) & (df['Kk'] == kk) & (df['Pv'] == pv)]\n",
    "    #t_vert = raja['mittari_1 (degC)'].values[0]\n",
    "\n",
    "    #valitaan ajanjakso\n",
    "    df = df.loc[(df['Vuosi'] == 2010) & (df['Kk'] == 10) & (df['Pv'] <= 29)]\n",
    "    \n",
    "    #poimitaan vain vertailun läpäisseet\n",
    "    df = df[df['mittari_1 (degC)'] < t_vert]\n",
    "    \n",
    "    #lajitellaan nousevaan järjestykseen\n",
    "    tulos = df.sort_values(['mittari_1 (degC)'])\n",
    "    \n",
    "    #lopuksi poimitaan vain kiinostavat sarakkeet\n",
    "    tulos = tulos[['Vuosi','Kk','Pv','mittari_1 (degC)']]\n",
    "    \n",
    "    return tulos"
   ]
  },
  {
   "cell_type": "code",
   "execution_count": 6,
   "metadata": {},
   "outputs": [
    {
     "name": "stdout",
     "output_type": "stream",
     "text": [
      "       Vuosi  Kk  Pv  mittari_1 (degC)\n",
      "18915   2010  10  15          0.002291\n",
      "18925   2010  10  25          0.182886\n",
      "18926   2010  10  26          0.218782\n",
      "18927   2010  10  27          0.434560\n",
      "18928   2010  10  28          0.461234\n"
     ]
    }
   ],
   "source": [
    "url = \"https://student.labranet.jamk.fi/~pelju/data_av/sources/data_h1_t3.csv\"\n",
    "tulos = mittaustiedot(url)\n",
    "print(tulos.head(5))"
   ]
  },
  {
   "cell_type": "code",
   "execution_count": null,
   "metadata": {},
   "outputs": [],
   "source": []
  }
 ],
 "metadata": {
  "kernelspec": {
   "display_name": "Python 3",
   "language": "python",
   "name": "python3"
  },
  "language_info": {
   "codemirror_mode": {
    "name": "ipython",
    "version": 3
   },
   "file_extension": ".py",
   "mimetype": "text/x-python",
   "name": "python",
   "nbconvert_exporter": "python",
   "pygments_lexer": "ipython3",
   "version": "3.8.3"
  }
 },
 "nbformat": 4,
 "nbformat_minor": 4
}
