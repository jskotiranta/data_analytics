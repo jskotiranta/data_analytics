{
 "cells": [
  {
   "cell_type": "code",
   "execution_count": null,
   "id": "a311ea6f",
   "metadata": {},
   "outputs": [],
   "source": [
    "#H05T01\n",
    "#lämpötilan mittausdataa"
   ]
  },
  {
   "cell_type": "code",
   "execution_count": 2,
   "id": "22078d12",
   "metadata": {},
   "outputs": [
    {
     "data": {
      "text/html": [
       "<div>\n",
       "<style scoped>\n",
       "    .dataframe tbody tr th:only-of-type {\n",
       "        vertical-align: middle;\n",
       "    }\n",
       "\n",
       "    .dataframe tbody tr th {\n",
       "        vertical-align: top;\n",
       "    }\n",
       "\n",
       "    .dataframe thead th {\n",
       "        text-align: right;\n",
       "    }\n",
       "</style>\n",
       "<table border=\"1\" class=\"dataframe\">\n",
       "  <thead>\n",
       "    <tr style=\"text-align: right;\">\n",
       "      <th></th>\n",
       "      <th>aika, s</th>\n",
       "      <th>Air temperature, degC</th>\n",
       "    </tr>\n",
       "  </thead>\n",
       "  <tbody>\n",
       "    <tr>\n",
       "      <th>0</th>\n",
       "      <td>0</td>\n",
       "      <td>6.5</td>\n",
       "    </tr>\n",
       "    <tr>\n",
       "      <th>1</th>\n",
       "      <td>600</td>\n",
       "      <td>6.2</td>\n",
       "    </tr>\n",
       "    <tr>\n",
       "      <th>2</th>\n",
       "      <td>1200</td>\n",
       "      <td>5.7</td>\n",
       "    </tr>\n",
       "    <tr>\n",
       "      <th>3</th>\n",
       "      <td>1800</td>\n",
       "      <td>5.7</td>\n",
       "    </tr>\n",
       "    <tr>\n",
       "      <th>4</th>\n",
       "      <td>2400</td>\n",
       "      <td>5.7</td>\n",
       "    </tr>\n",
       "  </tbody>\n",
       "</table>\n",
       "</div>"
      ],
      "text/plain": [
       "   aika, s  Air temperature, degC\n",
       "0        0                    6.5\n",
       "1      600                    6.2\n",
       "2     1200                    5.7\n",
       "3     1800                    5.7\n",
       "4     2400                    5.7"
      ]
     },
     "execution_count": 2,
     "metadata": {},
     "output_type": "execute_result"
    }
   ],
   "source": [
    "#datan esikäsittely\n",
    "import pandas as pd\n",
    "\n",
    "url = 'https://student.labranet.jamk.fi/~huoptu/datananal_s20/kerta5/harjoitukset/saatiedot.csv'\n",
    "df = pd.read_csv(url, sep=',', decimal='.')\n",
    "\n",
    "#splitataan aikasarake\n",
    "aikasplit = df['Unnamed: 0'].str.split(' ')\n",
    "df['paiva'] = aikasplit.str[0].str.split('-').str[2].astype(int)\n",
    "df['tunti'] = aikasplit.str[1].str.split(':').str[0].astype(int)\n",
    "df['minuutti'] = aikasplit.str[1].str.split(':').str[1].astype(int)\n",
    "df['sekunti'] = aikasplit.str[1].str.split(':').str[2].astype(int)\n",
    "\n",
    "#aikaleima sekunteina\n",
    "df['aika_s'] = df['sekunti'] + df['minuutti']*60 + df['tunti']*3600 + df['paiva']*86400\n",
    "\n",
    "#aikaa on kulunut mittaussarjan alusta\n",
    "df['aika, s'] = df['aika_s'] - df.loc[0,'aika_s']\n",
    "\n",
    "#tehdään uusi df\n",
    "df2 = df[['aika, s','Air temperature, degC']].copy()\n",
    "\n",
    "df2.head(5)"
   ]
  },
  {
   "cell_type": "code",
   "execution_count": 3,
   "id": "f2b487bf",
   "metadata": {},
   "outputs": [
    {
     "data": {
      "image/png": "[encoded data removed]",
      "text/plain": [
       "<Figure size 432x288 with 1 Axes>"
      ]
     },
     "metadata": {
      "needs_background": "light"
     },
     "output_type": "display_data"
    }
   ],
   "source": [
    "#sitten tehdään kuvaaja\n",
    "import matplotlib.pyplot as plt\n",
    "\n",
    "plt.scatter(df2['aika, s'],df2['Air temperature, degC'], color='red', marker='.')\n",
    "plt.xlabel('aika, s')\n",
    "plt.ylabel('ilman lämpötila, $\\degree$C' )\n",
    "plt.legend(['ilman lämpötila'])\n",
    "plt.grid(color='black', linestyle='--')\n",
    "plt.show()"
   ]
  },
  {
   "cell_type": "code",
   "execution_count": null,
   "id": "20f3c294",
   "metadata": {},
   "outputs": [],
   "source": []
  }
 ],
 "metadata": {
  "kernelspec": {
   "display_name": "Python 3 (ipykernel)",
   "language": "python",
   "name": "python3"
  },
  "language_info": {
   "codemirror_mode": {
    "name": "ipython",
    "version": 3
   },
   "file_extension": ".py",
   "mimetype": "text/x-python",
   "name": "python",
   "nbconvert_exporter": "python",
   "pygments_lexer": "ipython3",
   "version": "3.8.12"
  }
 },
 "nbformat": 4,
 "nbformat_minor": 5
}
