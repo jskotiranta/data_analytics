{
 "cells": [
  {
   "cell_type": "code",
   "execution_count": null,
   "id": "9f5cf698",
   "metadata": {},
   "outputs": [],
   "source": [
    "#H03T01\n",
    "#pientä kuntien statistiikkaa"
   ]
  },
  {
   "cell_type": "code",
   "execution_count": 7,
   "id": "103aa675",
   "metadata": {},
   "outputs": [],
   "source": [
    "def kuntatilastot(url):\n",
    "    import pandas as pd\n",
    "    \n",
    "    #luetaan data ja lajitellaan kuntamuodon mukaan\n",
    "    df = pd.read_csv(url, sep=\";\", decimal=\",\")\n",
    "    df1 = df.loc[(df['kuntamuoto']) == 'Kaupunki']\n",
    "    df2 = df.loc[(df['kuntamuoto']) == 'Muu kunta']\n",
    "    \n",
    "    #lasketaan tilastotiedot\n",
    "    keskiarvo = [df1['Väkiluku'].mean(),df2['Väkiluku'].mean()]\n",
    "    mediaani = [df1['Väkiluku'].median(),df2['Väkiluku'].median()]\n",
    "    summa = [df1['Väkiluku'].sum(),df2['Väkiluku'].sum()]\n",
    "    \n",
    "    #luodaan uusi rakenne ja tulostettava frame\n",
    "    tilastot = {'Tyyppi': ['Kaupunki', 'Muu kunta'], 'Keskiarvo': keskiarvo, 'Mediaani': mediaani, 'Summa': summa}\n",
    "    tulos = pd.DataFrame(tilastot)\n",
    "    \n",
    "    return tulos"
   ]
  },
  {
   "cell_type": "code",
   "execution_count": 8,
   "id": "02db8b43",
   "metadata": {},
   "outputs": [
    {
     "name": "stdout",
     "output_type": "stream",
     "text": [
      "      Tyyppi     Keskiarvo  Mediaani    Summa\n",
      "0   Kaupunki  40995.607477   16611.0  4386530\n",
      "1  Muu kunta   5562.788177    3491.0  1129246\n"
     ]
    }
   ],
   "source": [
    "url=\"https://student.labranet.jamk.fi/~pelju/data_av/sources/kunnat.csv\"\n",
    "print(kuntatilastot(url))"
   ]
  },
  {
   "cell_type": "code",
   "execution_count": null,
   "id": "6e47b47e",
   "metadata": {},
   "outputs": [],
   "source": []
  }
 ],
 "metadata": {
  "kernelspec": {
   "display_name": "Python 3 (ipykernel)",
   "language": "python",
   "name": "python3"
  },
  "language_info": {
   "codemirror_mode": {
    "name": "ipython",
    "version": 3
   },
   "file_extension": ".py",
   "mimetype": "text/x-python",
   "name": "python",
   "nbconvert_exporter": "python",
   "pygments_lexer": "ipython3",
   "version": "3.8.12"
  }
 },
 "nbformat": 4,
 "nbformat_minor": 5
}
