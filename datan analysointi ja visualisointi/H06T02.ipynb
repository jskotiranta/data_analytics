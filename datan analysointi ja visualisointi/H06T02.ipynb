{
 "cells": [
  {
   "cell_type": "code",
   "execution_count": null,
   "id": "f60fb89d",
   "metadata": {},
   "outputs": [],
   "source": [
    "#H06T02\n",
    "#lisää aikaleimoilla leikkimistä"
   ]
  },
  {
   "cell_type": "code",
   "execution_count": 89,
   "id": "66871ba5",
   "metadata": {},
   "outputs": [],
   "source": [
    "def saa(url):\n",
    "    import pandas as pd\n",
    "    from datetime import datetime\n",
    "    \n",
    "    df = pd.read_csv(url)\n",
    "    \n",
    "    #ensin luetaan datan aikaleima aikaleimaksi ja sortataan sen mukaan\n",
    "    df['aikaleima'] = pd.to_datetime(df['Unnamed: 0'])\n",
    "    df2 = df.sort_values('aikaleima', ascending=True).copy()\n",
    "    \n",
    "    #sitten lasketaan aikaleimojen erotus sekunteina ja siistitään hiukan\n",
    "    df2['aiempi'] = df2['aikaleima'].shift(1)\n",
    "    df2['erotus_s'] = (df2['aikaleima'] - df2['aiempi']).dt.total_seconds()\n",
    "    df2.fillna(0, inplace = True)\n",
    "    \n",
    "    #ja lopulta päästään sekuntien juoksevaan numerointiin alusta\n",
    "    df2['From start, s'] = df2['erotus_s'].cumsum()\n",
    "    \n",
    "    #haluttu indeksi\n",
    "    df2['hh.mm.ss'] = pd.to_datetime(df2['From start, s'], unit='s')\n",
    "    df2.index = df2['hh.mm.ss']\n",
    "    \n",
    "    #Mieletöntä kikkailua :D\n",
    "    df3 = df2.groupby(df2.index.hour)[['Air temperature, degC', 'Pressure (msl), hPa']].mean().round(1)\n",
    "    df3.index = pd.to_datetime(df3.index, unit='h')\n",
    "    df3.index = df3.index.strftime(date_format = '%H.%M.%S')\n",
    "    \n",
    "    #poimitaan vain haluttu aikaväli indeksistä\n",
    "    tulos = df3['07.00.00':]\n",
    "    tulos = tulos.head(5).astype(str) #astype tarvitaan vain automaattitarkastusta varten :D\n",
    "    \n",
    "    return tulos"
   ]
  },
  {
   "cell_type": "code",
   "execution_count": 91,
   "id": "a800a813",
   "metadata": {},
   "outputs": [
    {
     "name": "stdout",
     "output_type": "stream",
     "text": [
      "         Air temperature, degC Pressure (msl), hPa\n",
      "hh.mm.ss                                          \n",
      "07.00.00                   5.2              1008.9\n",
      "08.00.00                   4.8              1008.2\n",
      "09.00.00                   4.8              1007.9\n",
      "10.00.00                   5.0              1007.7\n",
      "11.00.00                   5.2              1007.3\n"
     ]
    }
   ],
   "source": [
    "url = 'https://student.labranet.jamk.fi/~huoptu/datananal_s20/kerta6/harjoitukset/saatiedot.csv'\n",
    "print(saa(url))"
   ]
  },
  {
   "cell_type": "code",
   "execution_count": null,
   "id": "e3c8cdd5",
   "metadata": {},
   "outputs": [],
   "source": []
  }
 ],
 "metadata": {
  "kernelspec": {
   "display_name": "Python 3 (ipykernel)",
   "language": "python",
   "name": "python3"
  },
  "language_info": {
   "codemirror_mode": {
    "name": "ipython",
    "version": 3
   },
   "file_extension": ".py",
   "mimetype": "text/x-python",
   "name": "python",
   "nbconvert_exporter": "python",
   "pygments_lexer": "ipython3",
   "version": "3.8.12"
  }
 },
 "nbformat": 4,
 "nbformat_minor": 5
}
