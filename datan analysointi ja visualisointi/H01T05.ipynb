{
 "cells": [
  {
   "cell_type": "code",
   "execution_count": 1,
   "metadata": {},
   "outputs": [],
   "source": [
    "#H01T05\n",
    "#noudetaan mittaustiedot urlin takaa ja\n",
    "#manipuloidaan taulukkoa useammalla tavalla"
   ]
  },
  {
   "cell_type": "code",
   "execution_count": 1,
   "metadata": {},
   "outputs": [],
   "source": [
    "def saa(url):\n",
    "    import numpy as np\n",
    "    import pandas as pd\n",
    "    \n",
    "    #noudetaan data ja tehdään frame\n",
    "    data = pd.read_csv(url)\n",
    "    df = pd.DataFrame(data)\n",
    "    \n",
    "    #uusi sarake erotuksia varten\n",
    "    df['erotus'] = np.absolute(np.subtract(df['mittari_1 (degC)'], df['mittari_2 (degC)']))\n",
    "    \n",
    "    # luodaan virheraja-sarake\n",
    "    df['virheraja'] = np.nan\n",
    "    \n",
    "    #jos erotus < 1.5 niin virheraja = 'in'\n",
    "    df.loc[(df[\"erotus\"] < 1.5), \"virheraja\"] = 'in'\n",
    "    \n",
    "    #valitaan halutut kuukaudet\n",
    "    df = df[(df['Kk'] == 1) | (df['Kk'] == 4) | (df['Kk'] == 7) | (df['Kk'] == 10)]\n",
    "    \n",
    "    #valitaan ne rivit, joilla virhe on 'in'\n",
    "    df = df.loc[df['virheraja'] == 'in']\n",
    "    \n",
    "    #copy-kopioidaan uuteen dataframeen vain 'Kk', 'erotus' ja 'virheraja'\n",
    "    uusi_df = df[['Kk', 'erotus', 'virheraja']].copy()\n",
    "    \n",
    "    #vaihdetaan sarakkeiden otsikot\n",
    "    tulos = uusi_df.rename(columns={\"Kk\": \"Month\", \"erotus\": \"Difference\", \"virheraja\": \"Error\"})\n",
    "    \n",
    "    return tulos"
   ]
  },
  {
   "cell_type": "code",
   "execution_count": 2,
   "metadata": {},
   "outputs": [
    {
     "name": "stdout",
     "output_type": "stream",
     "text": [
      "       Month  Difference Error\n",
      "22206     10    0.609291    in\n",
      "22212     10    0.031468    in\n",
      "22214     10    1.353995    in\n",
      "22215     10    1.184691    in\n",
      "22283      1    0.886008    in\n"
     ]
    }
   ],
   "source": [
    "url = \"https://student.labranet.jamk.fi/~pelju/data_av/sources/data_h1_t3.csv\"\n",
    "tulos = saa(url)\n",
    "print(tulos.tail(5))"
   ]
  },
  {
   "cell_type": "code",
   "execution_count": null,
   "metadata": {},
   "outputs": [],
   "source": []
  }
 ],
 "metadata": {
  "kernelspec": {
   "display_name": "Python 3",
   "language": "python",
   "name": "python3"
  },
  "language_info": {
   "codemirror_mode": {
    "name": "ipython",
    "version": 3
   },
   "file_extension": ".py",
   "mimetype": "text/x-python",
   "name": "python",
   "nbconvert_exporter": "python",
   "pygments_lexer": "ipython3",
   "version": "3.8.3"
  }
 },
 "nbformat": 4,
 "nbformat_minor": 4
}
