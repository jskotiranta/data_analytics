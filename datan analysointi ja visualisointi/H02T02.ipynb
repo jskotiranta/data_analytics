{
 "cells": [
  {
   "cell_type": "code",
   "execution_count": null,
   "metadata": {},
   "outputs": [],
   "source": [
    "#H02T02\n",
    "#suodatetaan maakuntien kuntia"
   ]
  },
  {
   "cell_type": "code",
   "execution_count": 18,
   "metadata": {},
   "outputs": [],
   "source": [
    "def kunnat(url):\n",
    "    import pandas as pd\n",
    "    \n",
    "    df = pd.read_csv(url, sep=';', decimal=',')\n",
    "    \n",
    "    #suodatusehto on yhdelle riville ikävän pitkä lauseke\n",
    "    df2 = df[((df['maakunta'] == 'Uusimaa') | (df['maakunta'] == 'Keski-Pohjanmaa') | (df['maakunta'] == 'Keski-Suomi')) & (df['Väkiluku'] < 10000)].copy()\n",
    "    \n",
    "    #järjestetään kahden sarakkeen suhteen\n",
    "    df2.sort_values(['maakunta','kunta'], ascending=True, inplace=True)\n",
    "    df3 = df2.copy()\n",
    "    \n",
    "    #vain pyydetyt sarakkeet ja rivit\n",
    "    df3 = df3[['maakunta', 'kunta', 'Väkiluku']]\n",
    "    tulos = df3.head(5)\n",
    "    \n",
    "    return tulos"
   ]
  },
  {
   "cell_type": "code",
   "execution_count": 19,
   "metadata": {},
   "outputs": [
    {
     "name": "stdout",
     "output_type": "stream",
     "text": [
      "            maakunta       kunta  Väkiluku\n",
      "22   Keski-Pohjanmaa      Halsua      1165\n",
      "75   Keski-Pohjanmaa      Kannus      5502\n",
      "84   Keski-Pohjanmaa   Kaustinen      4273\n",
      "136  Keski-Pohjanmaa  Lestijärvi       737\n",
      "191  Keski-Pohjanmaa       Perho      2825\n"
     ]
    }
   ],
   "source": [
    "url=\"https://student.labranet.jamk.fi/~pelju/data_av/sources/kunnat.csv\"\n",
    "print(kunnat(url))"
   ]
  },
  {
   "cell_type": "code",
   "execution_count": null,
   "metadata": {},
   "outputs": [],
   "source": []
  }
 ],
 "metadata": {
  "kernelspec": {
   "display_name": "Python 3 (ipykernel)",
   "language": "python",
   "name": "python3"
  },
  "language_info": {
   "codemirror_mode": {
    "name": "ipython",
    "version": 3
   },
   "file_extension": ".py",
   "mimetype": "text/x-python",
   "name": "python",
   "nbconvert_exporter": "python",
   "pygments_lexer": "ipython3",
   "version": "3.8.12"
  }
 },
 "nbformat": 4,
 "nbformat_minor": 4
}
