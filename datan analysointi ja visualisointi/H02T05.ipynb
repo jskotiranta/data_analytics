{
 "cells": [
  {
   "cell_type": "code",
   "execution_count": 1,
   "metadata": {},
   "outputs": [],
   "source": [
    "#H02T05\n",
    "#sähkön hintatietojen luokittelua"
   ]
  },
  {
   "cell_type": "code",
   "execution_count": 1,
   "metadata": {},
   "outputs": [],
   "source": [
    "def suomisahko(url):\n",
    "    import pandas as pd\n",
    "    import numpy as np\n",
    "    \n",
    "    data = pd.read_csv(url, sep=',', decimal='.')\n",
    "    df = pd.DataFrame(data)\n",
    "    \n",
    "    #siivotaan aluksi puuttuvat arvot pois\n",
    "    #mutta vain pyydetyistä sarakkeista\n",
    "    df[df.iloc[:,2:15].isin([\".\"])] = np.nan\n",
    "    \n",
    "    #muutetaan sarakkeet kakkosesta eteenpäin floatiksi\n",
    "    df.iloc[:,2:15] = df.iloc[:,2:15].astype(float)\n",
    "    \n",
    "    #poimitaan mukaan vain suomalaiset tiedot uuteen frameen\n",
    "    df2 = df.loc[df['Price area'] == 'Finland'].copy()\n",
    "    \n",
    "    #sähkön hinnan keskiarvo\n",
    "    df2['Average €/MWh'] = df2.iloc[:,3:15].mean(axis=1)\n",
    "    \n",
    "    #kuukaudet, joina hinta alle tai yli keskiarvon\n",
    "    df2['Below average price'] = (df2.iloc[:,3:15].sub(df2['Average €/MWh'], axis=0) < 0).sum(axis=1)\n",
    "    df2['Above average price'] = (df2.iloc[:,3:15].sub(df2['Average €/MWh'], axis=0) >= 0).sum(axis=1)\n",
    "    \n",
    "    #suodatus loppuehdolla ja tuloste\n",
    "    df2 = df2.loc[df2['Below average price'] + df2['Above average price'] == 12]\n",
    "    df2 = df2[['Year', 'Below average price', 'Above average price']]\n",
    "    tulos = df2.head(10)\n",
    "    \n",
    "    return tulos"
   ]
  },
  {
   "cell_type": "code",
   "execution_count": 3,
   "metadata": {},
   "outputs": [
    {
     "name": "stdout",
     "output_type": "stream",
     "text": [
      "     Year  Below average price  Above average price\n",
      "145  1998                    5                    7\n",
      "146  1999                    5                    7\n",
      "147  2000                    7                    5\n",
      "148  2001                    7                    5\n",
      "149  2002                    9                    3\n",
      "150  2003                    9                    3\n",
      "151  2004                    7                    5\n",
      "152  2005                    5                    7\n",
      "153  2006                    6                    6\n",
      "154  2007                    7                    5\n"
     ]
    }
   ],
   "source": [
    "url=\"https://student.labranet.jamk.fi/~huoptu/datananal_s20/kerta2/harjoitukset/ehi_010_2020q2.csv\"\n",
    "#url=\"https://student.labranet.jamk.fi/~huoptu/datananal_s20/kerta2/harjoitukset/data_h2_t1B.csv\"\n",
    "print(suomisahko(url))"
   ]
  },
  {
   "cell_type": "code",
   "execution_count": null,
   "metadata": {},
   "outputs": [],
   "source": []
  }
 ],
 "metadata": {
  "kernelspec": {
   "display_name": "Python 3 (ipykernel)",
   "language": "python",
   "name": "python3"
  },
  "language_info": {
   "codemirror_mode": {
    "name": "ipython",
    "version": 3
   },
   "file_extension": ".py",
   "mimetype": "text/x-python",
   "name": "python",
   "nbconvert_exporter": "python",
   "pygments_lexer": "ipython3",
   "version": "3.8.12"
  }
 },
 "nbformat": 4,
 "nbformat_minor": 4
}
