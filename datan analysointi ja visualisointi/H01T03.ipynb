{
 "cells": [
  {
   "cell_type": "code",
   "execution_count": 1,
   "metadata": {},
   "outputs": [],
   "source": [
    "#H01T03\n",
    "#opetellaan dataframen suodattamista"
   ]
  },
  {
   "cell_type": "code",
   "execution_count": 1,
   "metadata": {},
   "outputs": [],
   "source": [
    "#syöte\n",
    "veikkausliiga = {1990: {'HJK': 1,'Kuusysi': 2,'MP': 3,'Reipas': 4,'RoPS': 5,'KuPS': 6,'TPS': 7,'Haka': 8,'Ilves': 9,'OTP': 10,'KPV': 11,'Kumu': 12}, 1991: {'Kuusysi': 1,'MP': 2,'Haka': 3,'Jaro': 4,'HJK': 5,'Ilves': 6,'RoPS': 7,'Jazz': 8,'TPS': 9,'KuPS': 10,'OTP': 11,'Reipas': 12}, 1992: {'HJK': 1,'Kuusysi': 2,'Jazz': 3,'MYPA': 4,'Jaro': 5,'Haka': 6,'RoPS': 7,'Ilves': 8,'TPS': 9,'MP': 10,'FC/AC Oulu': 11,'KuPS': 12}, 1993: {'Jazz': 1,'MYPA': 2,'HJK': 3,'Kuusysi': 4,'FinnPa': 5,'TPV': 6,'RoPS': 7,'TPS': 8,'MP': 9,'Haka': 10,'Jaro': 11,'Ilves': 12}, 1994: {'TPV': 1,'MYPA': 2,'HJK': 3,'Jazz': 4,'RoPS': 5,'Haka': 6,'Jaro': 7,'TPS': 8,'Kuusysi': 9,'FinnPa': 10,'MP': 11,'Ilves': 12,'FC/AC Oulu': 13,'KuPS': 14}, 1995: {'Haka': 1,'MYPA': 2,'HJK': 3,'Jazz': 4,'Jaro': 5,'TPS': 6,'Ilves': 7,'FinnPa': 8,'RoPS': 9,'VPS': 10,'MP': 11,'TPV': 12,'Kuusysi': 13,'Ponnistus': 14}, 1996: {'Jazz': 1,'MYPA': 2,'TPS': 3,'FinnPa': 4,'Jaro': 5,'Inter': 6,'VPS': 7,'RoPS': 8,'HJK': 9,'Ilves': 10,'Haka': 11,'MP': 12}, 1997: {'HJK': 1,'VPS': 2,'FinnPa': 3,'TPS': 4,'MYPA': 5,'RoPS': 6,'Jazz': 7,'Jaro': 8,'TP-Seinäjoki': 9,'Inter': 10}, 1998: {'Haka': 1,'VPS': 2,'PK-35': 3,'HJK': 4,'Jazz': 5,'TPS': 6,'MYPA': 7,'RoPS': 8,'FinnPa': 9,'Jaro': 10}, 1999: {'Haka': 1,'HJK': 2,'MYPA': 3,'Jokerit': 4,'Inter': 5,'Jazz': 6,'KooTeePee': 7,'RoPS': 8,'TPS': 9,'Lahti': 10,'VPS': 11,'TPV': 12}, 2000: {'Haka': 1,'Jokerit': 2,'MYPA': 3,'HJK': 4,'Jazz': 5,'TamU': 6,'Inter': 7,'Lahti': 8,'RoPS': 9,'VPS': 10,'TPS': 11,'KooTeePee': 12}, 2001: {'TamU': 1,'HJK': 2,'MYPA': 3,'Haka': 4,'Inter': 5,'VPS': 6,'Atlantis': 7,'KuPS': 8,'Lahti': 9,'Jazz': 10,'Jokerit': 11,'RoPS': 12}, 2002: {'HJK': 1,'MYPA': 2,'Haka': 3,'Allianssi': 4,'TamU': 5,'Inter': 6,'Jaro': 7,'Lahti': 8,'KuPS': 9,'Hämeenlinna': 10,'VPS': 11,'Jazz': 12}, 2003: {'HJK': 1,'Haka': 2,'TamU': 3,'MYPA': 4,'Lahti': 5,'Allianssi': 6,'Inter': 7,'Jaro': 8,'TPS': 9,'Jokerit': 10,'Hämeenlinna': 11,'Jazz': 12,'KooTeePee': 13,'KuPS': 14}, 2004: {'Haka': 1,'Allianssi': 2,'TamU': 3,'Inter': 4,'TPS': 5,'HJK': 6,'Lahti': 7,'MYPA': 8,'KooTeePee': 9,'TP-47': 10,'Jaro': 11,'RoPS': 12,'Jazz': 13,'Hämeenlinna': 14}, 2005: {'MYPA': 1,'HJK': 2,'TamU': 3,'Haka': 4,'Inter': 5,'Lahti': 6,'Allianssi': 7,'KooTeePee': 8,'TPS': 9,'KuPS': 10,'Jaro': 11,'IFK Mariehamn': 12,'RoPS': 13,'TP-47': 14}, 2006: {'TamU': 1,'HJK': 2,'Haka': 3,'Honka': 4,'IFK Mariehamn': 5,'MYPA': 6,'TPS': 7,'Lahti': 8,'VPS': 9,'Inter': 10,'KooTeePee': 11,'Jaro': 12,'KuPS': 13}, 2007: {'TamU': 1,'Haka': 2,'TPS': 3,'Honka': 4,'MYPA': 5,'IFK Mariehamn': 6,'HJK': 7,'Lahti': 8,'Inter': 9,'VPS': 10,'Jaro': 11,'KooTeePee': 12,'Viikingit': 13,'FC/AC Oulu': 14}, 2008: {'Inter': 1,'Honka': 2,'Lahti': 3,'HJK': 4,'MYPA': 5,'TPS': 6,'TamU': 7,'Haka': 8,'Jaro': 9,'RoPS': 10,'VPS': 11,'IFK Mariehamn': 12,'KuPS': 13,'KooTeePee': 14}, 2009: {'HJK': 1,'Honka': 2,'TPS': 3,'IFK Mariehamn': 4,'Inter': 5,'Haka': 6,'TamU': 7,'VPS': 8,'MYPA': 9,'Jaro': 10,'Lahti': 11,'KuPS': 12,'JJK': 13,'RoPS': 14}, 2010: {'HJK': 1,'KuPS': 2,'TPS': 3,'Honka': 4,'Jaro': 5,'Inter': 6,'TamU': 7,'Haka': 8,'MYPA': 9,'VPS': 10,'FC/AC Oulu': 11,'IFK Mariehamn': 12,'JJK': 13,'Lahti': 14}, 2011: {'HJK': 1,'Inter': 2,'JJK': 3,'Honka': 4,'TPS': 5,'KuPS': 6,'IFK Mariehamn': 7,'MYPA': 8,'VPS': 9,'Haka': 10,'Jaro': 11,'RoPS': 12}, 2012: {'HJK': 1,'Inter': 2,'TPS': 3,'IFK Mariehamn': 4,'Lahti': 5,'MYPA': 6,'Honka': 7,'VPS': 8,'JJK': 9,'KuPS': 10,'Jaro': 11,'Haka': 12}, 2013: {'HJK': 1,'Honka': 2,'VPS': 3,'IFK Mariehamn': 4,'Lahti': 5,'MYPA': 6,'KuPS': 7,'TPS': 8,'Inter': 9,'Jaro': 10,'RoPS': 11,'JJK': 12}, 2014: {'HJK': 1,'SJK': 2,'Lahti': 3,'VPS': 4,'IFK Mariehamn': 5,'Jaro': 6,'KuPS': 7,'MYPA': 8,'Inter': 9,'RoPS': 10,'Honka': 11,'TPS': 12}, 2015: {'SJK': 1,'RoPS': 2,'HJK': 3,'Inter': 4,'Lahti': 5,'IFK Mariehamn': 6,'HIFK': 7,'Ilves': 8,'KuPS': 9,'VPS': 10,'KooTeePee': 11,'Jaro': 12}, 2016: {'IFK Mariehamn': 1,'HJK': 2,'SJK': 3,'VPS': 4,'Ilves': 5,'RoPS': 6,'KuPS': 7,'Lahti': 8,'PS Kemi': 9,'HIFK': 10,'Inter': 11,'PK-35': 12}, 2017: {'HJK': 1,'KuPS': 2,'Ilves': 3,'Lahti': 4,'IFK Mariehamn': 5,'SJK': 6,'RoPS': 7,'VPS': 8,'Inter': 9,'PS Kemi': 10,'HIFK': 11,'JJK': 12},2018: {'HJK': 1,'RoPS': 2,'KuPS': 3,'Honka': 4,'Ilves': 5,'VPS': 6,'Inter': 7,'Lahti': 8,'SJK': 9,'IFK Mariehamn': 10,'TPS': 11,'PS Kemi': 12}, 2019: {'KuPS': 1,'Inter': 2,'Honka': 3,'Ilves': 4,'HJK': 5,'IFK Mariehamn': 6,'HIFK': 7,'Lahti': 8,'SJK': 9,'RoPS': 10,'KPV': 11,'VPS': 12}}"
   ]
  },
  {
   "cell_type": "code",
   "execution_count": 5,
   "metadata": {},
   "outputs": [
    {
     "data": {
      "text/html": [
       "<div>\n",
       "<style scoped>\n",
       "    .dataframe tbody tr th:only-of-type {\n",
       "        vertical-align: middle;\n",
       "    }\n",
       "\n",
       "    .dataframe tbody tr th {\n",
       "        vertical-align: top;\n",
       "    }\n",
       "\n",
       "    .dataframe thead th {\n",
       "        text-align: right;\n",
       "    }\n",
       "</style>\n",
       "<table border=\"1\" class=\"dataframe\">\n",
       "  <thead>\n",
       "    <tr style=\"text-align: right;\">\n",
       "      <th></th>\n",
       "      <th>HJK</th>\n",
       "      <th>JJK</th>\n",
       "      <th>RoPS</th>\n",
       "    </tr>\n",
       "  </thead>\n",
       "  <tbody>\n",
       "    <tr>\n",
       "      <th>2005</th>\n",
       "      <td>2</td>\n",
       "      <td>0</td>\n",
       "      <td>yli 10</td>\n",
       "    </tr>\n",
       "    <tr>\n",
       "      <th>2006</th>\n",
       "      <td>2</td>\n",
       "      <td>0</td>\n",
       "      <td>0</td>\n",
       "    </tr>\n",
       "    <tr>\n",
       "      <th>2009</th>\n",
       "      <td>1</td>\n",
       "      <td>yli 10</td>\n",
       "      <td>yli 10</td>\n",
       "    </tr>\n",
       "    <tr>\n",
       "      <th>2010</th>\n",
       "      <td>1</td>\n",
       "      <td>yli 10</td>\n",
       "      <td>0</td>\n",
       "    </tr>\n",
       "    <tr>\n",
       "      <th>2011</th>\n",
       "      <td>1</td>\n",
       "      <td>3</td>\n",
       "      <td>yli 10</td>\n",
       "    </tr>\n",
       "    <tr>\n",
       "      <th>2012</th>\n",
       "      <td>1</td>\n",
       "      <td>9</td>\n",
       "      <td>0</td>\n",
       "    </tr>\n",
       "    <tr>\n",
       "      <th>2013</th>\n",
       "      <td>1</td>\n",
       "      <td>yli 10</td>\n",
       "      <td>yli 10</td>\n",
       "    </tr>\n",
       "    <tr>\n",
       "      <th>2014</th>\n",
       "      <td>1</td>\n",
       "      <td>0</td>\n",
       "      <td>10</td>\n",
       "    </tr>\n",
       "    <tr>\n",
       "      <th>2015</th>\n",
       "      <td>3</td>\n",
       "      <td>0</td>\n",
       "      <td>2</td>\n",
       "    </tr>\n",
       "  </tbody>\n",
       "</table>\n",
       "</div>"
      ],
      "text/plain": [
       "      HJK     JJK    RoPS\n",
       "2005    2       0  yli 10\n",
       "2006    2       0       0\n",
       "2009    1  yli 10  yli 10\n",
       "2010    1  yli 10       0\n",
       "2011    1       3  yli 10\n",
       "2012    1       9       0\n",
       "2013    1  yli 10  yli 10\n",
       "2014    1       0      10\n",
       "2015    3       0       2"
      ]
     },
     "execution_count": 5,
     "metadata": {},
     "output_type": "execute_result"
    }
   ],
   "source": [
    "#muutetaan sanakirja dataframeksi ja tehdään halutut suodatukset\n",
    "import pandas as pd\n",
    "df = pd.DataFrame.from_dict(veikkausliiga, orient='index')\n",
    "\n",
    "#muutetaan NaN nollaksi\n",
    "df.fillna(0, inplace=True)\n",
    "\n",
    "#muutetaan sijoitukset kokonaisluvuiksi\n",
    "df = df.astype(int)\n",
    "#pd.options.display.float_format = '{:,.0f}'.format\n",
    "\n",
    "#HJK kolmen parhaan joukossa\n",
    "df2 = df[df['HJK'] <= 3]\n",
    "\n",
    "#valitaan vain rivit 2005-2015\n",
    "df2 = df2.loc['2005':'2015']\n",
    "\n",
    "#ja edelleen vain sarakkeet HJK, JJK ja RoPS\n",
    "df2 = df2[['HJK', 'JJK', 'RoPS']]\n",
    "\n",
    "#jos sijoitus > 10 korvataan merkkijonolla\n",
    "tt = df2 > 10\n",
    "df2[tt] = \"yli 10\"\n",
    "\n",
    "#lopuksi tulostetaan vain viisi ensimmäistä riviä\n",
    "tulos = df2.head(5)\n",
    "\n",
    "df2"
   ]
  },
  {
   "cell_type": "code",
   "execution_count": 6,
   "metadata": {},
   "outputs": [
    {
     "name": "stdout",
     "output_type": "stream",
     "text": [
      "      HJK     JJK    RoPS\n",
      "2005    2       0  yli 10\n",
      "2006    2       0       0\n",
      "2009    1  yli 10  yli 10\n",
      "2010    1  yli 10       0\n",
      "2011    1       3  yli 10\n"
     ]
    }
   ],
   "source": [
    "print(tulos)"
   ]
  },
  {
   "cell_type": "code",
   "execution_count": null,
   "metadata": {},
   "outputs": [],
   "source": []
  }
 ],
 "metadata": {
  "kernelspec": {
   "display_name": "Python 3",
   "language": "python",
   "name": "python3"
  },
  "language_info": {
   "codemirror_mode": {
    "name": "ipython",
    "version": 3
   },
   "file_extension": ".py",
   "mimetype": "text/x-python",
   "name": "python",
   "nbconvert_exporter": "python",
   "pygments_lexer": "ipython3",
   "version": "3.8.3"
  }
 },
 "nbformat": 4,
 "nbformat_minor": 4
}
