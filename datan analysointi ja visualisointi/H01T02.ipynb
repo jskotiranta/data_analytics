{
 "cells": [
  {
   "cell_type": "code",
   "execution_count": 1,
   "metadata": {},
   "outputs": [],
   "source": [
    "#H01T02\n",
    "#funktio vertaa kahta taulukkoa ja jos\n",
    "#ekassa on pienempi alkio, korvaa sen -1.llä.\n",
    "#lopuksi palautetaan alkioittainen summa"
   ]
  },
  {
   "cell_type": "code",
   "execution_count": 2,
   "metadata": {},
   "outputs": [],
   "source": [
    "def vertaa(luvut1,luvut2):\n",
    "    import numpy as np\n",
    "    \n",
    "    #tehdään np-arrayt ja työskennellään niillä\n",
    "    luvut1_np = np.array(luvut1)\n",
    "    luvut2_np = np.array(luvut2)\n",
    "    \n",
    "    #alkioittainen vertailu ja\n",
    "    #pienemmän arvon korvaaminen -1:llä.\n",
    "    #\"boolean-suodatus\"\n",
    "    pk = luvut1_np < luvut2_np\n",
    "    luvut1_np[pk] = -1\n",
    "    \n",
    "    #alkioittainen summa\n",
    "    tulos = np.add(luvut1_np,luvut2_np)\n",
    "    \n",
    "    return tulos"
   ]
  },
  {
   "cell_type": "code",
   "execution_count": 3,
   "metadata": {},
   "outputs": [
    {
     "name": "stdout",
     "output_type": "stream",
     "text": [
      "[[23  8 31]\n",
      " [ 7  2  3]\n",
      " [ 9  6 55]]\n"
     ]
    }
   ],
   "source": [
    "#syötteet\n",
    "luvut1 = [[12, 2, 4], [5, 1, 2], [9, 3, 45]]\n",
    "luvut2 = [[11, 9, 32], [2, 3, 1], [0, 3, 10]]\n",
    "\n",
    "print(vertaa(luvut1,luvut2))"
   ]
  },
  {
   "cell_type": "code",
   "execution_count": null,
   "metadata": {},
   "outputs": [],
   "source": []
  }
 ],
 "metadata": {
  "kernelspec": {
   "display_name": "Python 3",
   "language": "python",
   "name": "python3"
  },
  "language_info": {
   "codemirror_mode": {
    "name": "ipython",
    "version": 3
   },
   "file_extension": ".py",
   "mimetype": "text/x-python",
   "name": "python",
   "nbconvert_exporter": "python",
   "pygments_lexer": "ipython3",
   "version": "3.8.3"
  }
 },
 "nbformat": 4,
 "nbformat_minor": 4
}
