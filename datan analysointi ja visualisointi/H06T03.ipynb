{
 "cells": [
  {
   "cell_type": "code",
   "execution_count": null,
   "id": "2f884257",
   "metadata": {},
   "outputs": [],
   "source": [
    "#H06T03\n",
    "#lentävän kappaleen simulointi"
   ]
  },
  {
   "cell_type": "code",
   "execution_count": 1,
   "id": "966e94a8",
   "metadata": {},
   "outputs": [],
   "source": [
    "def timedata(start, end):\n",
    "    import pandas as pd\n",
    "    import numpy as np\n",
    "    from datetime import datetime\n",
    "    \n",
    "    #aloitetaan generoimalla aikaleimat indeksiin\n",
    "    aikaleima = pd.date_range(start, end, freq='20s')\n",
    "    df = pd.DataFrame(aikaleima)\n",
    "    df.columns=['aikaleima']\n",
    "    \n",
    "    #ja juokseva aika sekunteina\n",
    "    df['aiempi'] = df['aikaleima'].shift(1)\n",
    "    df['erotus_s'] = (df['aikaleima'] - df['aiempi']).dt.total_seconds()\n",
    "    df.fillna(0, inplace = True)\n",
    "    df['t, s'] = df['erotus_s'].cumsum()\n",
    "    \n",
    "    v0 = 600 #m/s, lähtökulma 45 astetta\n",
    "    #fysikaalinen malli (yksikkönä m)\n",
    "    df['x, m'] = df['t, s']*v0/np.sqrt(2)\n",
    "    df['y, m'] = df['t, s']*v0/np.sqrt(2) - (9.82*df['t, s']**2)/2\n",
    "    \n",
    "    #indeksin säätäminen\n",
    "    df.index = df['aikaleima']\n",
    "    df.index = df.index.strftime(date_format = '%H:%M:%S')\n",
    "    df.index.name = 'hh:mm:ss'\n",
    "    \n",
    "    #lopputulos\n",
    "    tulos = df[['t, s','x, m','y, m']].round(0).astype(int)\n",
    "    \n",
    "    return tulos"
   ]
  },
  {
   "cell_type": "code",
   "execution_count": 2,
   "id": "4875a4b0",
   "metadata": {},
   "outputs": [
    {
     "name": "stdout",
     "output_type": "stream",
     "text": [
      "          t, s   x, m  y, m\n",
      "hh:mm:ss                   \n",
      "23:59:00     0      0     0\n",
      "23:59:20    20   8485  6521\n",
      "23:59:40    40  16971  9115\n",
      "00:00:00    60  25456  7780\n",
      "00:00:20    80  33941  2517\n"
     ]
    }
   ],
   "source": [
    "start = '2019-12-31 23:59:00'\n",
    "end = '2020-01-01 00:00:30'\n",
    "print(timedata(start, end))"
   ]
  },
  {
   "cell_type": "code",
   "execution_count": null,
   "id": "49bd39c7",
   "metadata": {},
   "outputs": [],
   "source": []
  }
 ],
 "metadata": {
  "kernelspec": {
   "display_name": "Python 3 (ipykernel)",
   "language": "python",
   "name": "python3"
  },
  "language_info": {
   "codemirror_mode": {
    "name": "ipython",
    "version": 3
   },
   "file_extension": ".py",
   "mimetype": "text/x-python",
   "name": "python",
   "nbconvert_exporter": "python",
   "pygments_lexer": "ipython3",
   "version": "3.8.12"
  }
 },
 "nbformat": 4,
 "nbformat_minor": 5
}
