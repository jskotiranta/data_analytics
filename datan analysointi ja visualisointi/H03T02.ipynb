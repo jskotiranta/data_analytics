{
 "cells": [
  {
   "cell_type": "code",
   "execution_count": null,
   "id": "fa2f0155",
   "metadata": {},
   "outputs": [],
   "source": [
    "#H03T02\n",
    "#hiukan lisää kuntadatan pyörittelyä"
   ]
  },
  {
   "cell_type": "code",
   "execution_count": 21,
   "id": "6e0551fa",
   "metadata": {},
   "outputs": [],
   "source": [
    "def maakunnat(url):\n",
    "    import pandas as pd\n",
    "    \n",
    "    #luetaan data ja lajitellaan kuntamuodon mukaan\n",
    "    df = pd.read_csv(url, sep=\";\", decimal=\",\")\n",
    "    df1 = df.loc[(df['kuntamuoto']) == 'Muu kunta']\n",
    "    \n",
    "    #groupby-ryhmitys\n",
    "    vakiluku = df1.groupby(df1['maakunta'])['Väkiluku'].sum()\n",
    "    pinta_ala = df1.groupby(df1['maakunta'])['kokonaispinta-ala'].sum()\n",
    "    \n",
    "    #luodaan uusi rakenne ja tulostettava frame\n",
    "    tilastot = {'Väkiluku': vakiluku, 'kokonaispinta-ala': pinta_ala}\n",
    "    tulos = pd.DataFrame(tilastot).sort_values('Väkiluku', ascending=False)\n",
    "    \n",
    "    #loppumuotoilu\n",
    "    tulos = tulos.head(6)\n",
    "    \n",
    "    return tulos"
   ]
  },
  {
   "cell_type": "code",
   "execution_count": 22,
   "id": "32709f94",
   "metadata": {},
   "outputs": [
    {
     "name": "stdout",
     "output_type": "stream",
     "text": [
      "                   Väkiluku  kokonaispinta-ala\n",
      "maakunta                                      \n",
      "Uusimaa              219203            5751.35\n",
      "Pohjois-Pohjanmaa     95571           21035.99\n",
      "Varsinais-Suomi       82793            7327.68\n",
      "Pirkanmaa             79856            4493.22\n",
      "Pohjois-Savo          69339           12357.90\n",
      "Keski-Suomi           69317           11077.61\n"
     ]
    }
   ],
   "source": [
    "url=\"https://student.labranet.jamk.fi/~pelju/data_av/sources/kunnat.csv\"\n",
    "print(maakunnat(url))"
   ]
  },
  {
   "cell_type": "code",
   "execution_count": null,
   "id": "ba2442c9",
   "metadata": {},
   "outputs": [],
   "source": []
  }
 ],
 "metadata": {
  "kernelspec": {
   "display_name": "Python 3 (ipykernel)",
   "language": "python",
   "name": "python3"
  },
  "language_info": {
   "codemirror_mode": {
    "name": "ipython",
    "version": 3
   },
   "file_extension": ".py",
   "mimetype": "text/x-python",
   "name": "python",
   "nbconvert_exporter": "python",
   "pygments_lexer": "ipython3",
   "version": "3.8.12"
  }
 },
 "nbformat": 4,
 "nbformat_minor": 5
}
