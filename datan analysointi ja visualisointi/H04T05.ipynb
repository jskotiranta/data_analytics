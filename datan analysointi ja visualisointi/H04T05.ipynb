{
 "cells": [
  {
   "cell_type": "code",
   "execution_count": null,
   "id": "218c68e7",
   "metadata": {},
   "outputs": [],
   "source": [
    "#H04T05\n",
    "#autodatasta monitasoinen frame"
   ]
  },
  {
   "cell_type": "code",
   "execution_count": 7,
   "id": "4b7d9729",
   "metadata": {},
   "outputs": [],
   "source": [
    "def autot(url_a1, url_a2, url_b1, url_b2):\n",
    "    import pandas as pd\n",
    "    \n",
    "    #yhdistetään a- ja b-datat...\n",
    "    dfa1 = pd.read_csv(url_a1, sep=';')\n",
    "    dfa2 = pd.read_csv(url_a2, sep=';')\n",
    "    dfa = pd.concat([dfa1,dfa2])\n",
    "    dfb1 = pd.read_csv(url_b1, sep=';')\n",
    "    dfb2 = pd.read_csv(url_b2, sep=';')\n",
    "    dfb = pd.concat([dfb1,dfb2])\n",
    "    \n",
    "    #...ja tehdään yksi df jonka kanssa jatketaan\n",
    "    df = pd.merge(dfa,dfb, on='ID')\n",
    "    \n",
    "    #uudelleennimetään asioita\n",
    "    d = {'DIESEL': 'Diesel', 'PETROL': 'Petrol'}\n",
    "    df.replace({'Ft': d}, inplace=True)\n",
    "    df2 = df[['Enedc (g/km)','MS','Ft']]\n",
    "    df2 = df2.rename(columns={'Enedc (g/km)':'Avg emissions (g/km)', 'MS': 'Member State', 'Ft': 'Fuel type'})\n",
    "    \n",
    "    #pivotoitu taulukko ja valitaan sarakkeet\n",
    "    df3 = df2.pivot_table(['Avg emissions (g/km)'], index='Member State', columns=['Fuel type'])\n",
    "    df4 = df3[[('Avg emissions (g/km)',   'Diesel'), ('Avg emissions (g/km)',   'Petrol')]].copy()\n",
    "    \n",
    "    #uusi sarake ja sorttaus\n",
    "    df4.loc[:,('Avg emissions (g/km)', 'D-P')] = df4.loc[:,('Avg emissions (g/km)', 'Diesel')] - df4.loc[:,('Avg emissions (g/km)', 'Petrol')]\n",
    "    df4.sort_values(('Avg emissions (g/km)', 'D-P'), ascending=False, inplace=True)\n",
    "    \n",
    "    #lopullinen muotoilu\n",
    "    tulos = df4.round(decimals=0).applymap(\"{:.0f}\".format)\n",
    "    tulos = tulos.head(5)\n",
    "    \n",
    "    return tulos"
   ]
  },
  {
   "cell_type": "code",
   "execution_count": 8,
   "id": "ae09bfa1",
   "metadata": {},
   "outputs": [
    {
     "name": "stdout",
     "output_type": "stream",
     "text": [
      "             Avg emissions (g/km)           \n",
      "Fuel type                  Diesel Petrol D-P\n",
      "Member State                                \n",
      "EE                            132    108  25\n",
      "FI                            137    112  25\n",
      "LV                            131    108  23\n",
      "GR                            122    100  22\n",
      "CZ                            122    110  12\n"
     ]
    }
   ],
   "source": [
    "url_a1=\"https://student.labranet.jamk.fi/~huoptu/datananal_s20/kerta4/harjoitukset/autotA1.csv\"\n",
    "url_a2=\"https://student.labranet.jamk.fi/~huoptu/datananal_s20/kerta4/harjoitukset/autotA2.csv\"\n",
    "url_b1=\"https://student.labranet.jamk.fi/~huoptu/datananal_s20/kerta4/harjoitukset/autotB1.csv\"\n",
    "url_b2=\"https://student.labranet.jamk.fi/~huoptu/datananal_s20/kerta4/harjoitukset/autotB2.csv\"\n",
    "\n",
    "print(autot(url_a1, url_a2, url_b1, url_b2))"
   ]
  },
  {
   "cell_type": "code",
   "execution_count": null,
   "id": "98c66f06",
   "metadata": {},
   "outputs": [],
   "source": []
  },
  {
   "cell_type": "code",
   "execution_count": null,
   "id": "b88eee59",
   "metadata": {},
   "outputs": [],
   "source": []
  }
 ],
 "metadata": {
  "kernelspec": {
   "display_name": "Python 3 (ipykernel)",
   "language": "python",
   "name": "python3"
  },
  "language_info": {
   "codemirror_mode": {
    "name": "ipython",
    "version": 3
   },
   "file_extension": ".py",
   "mimetype": "text/x-python",
   "name": "python",
   "nbconvert_exporter": "python",
   "pygments_lexer": "ipython3",
   "version": "3.8.12"
  }
 },
 "nbformat": 4,
 "nbformat_minor": 5
}
