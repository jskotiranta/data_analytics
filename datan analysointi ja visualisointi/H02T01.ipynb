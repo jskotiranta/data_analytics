{
 "cells": [
  {
   "cell_type": "code",
   "execution_count": null,
   "metadata": {},
   "outputs": [],
   "source": [
    "#H02T01\n",
    "#suodatetaan keskisuomalaisia kuntia"
   ]
  },
  {
   "cell_type": "code",
   "execution_count": 19,
   "metadata": {},
   "outputs": [],
   "source": [
    "def ks_kunnat(url):\n",
    "    import pandas as pd\n",
    "    \n",
    "    data = pd.read_csv(url, sep=';', decimal=',')\n",
    "    df = pd.DataFrame(data)\n",
    "    \n",
    "    #suodatusehto\n",
    "    df2 = df[(df['maakunta'] == 'Keski-Suomi') & (df['kokonaispinta-ala'] > 1000)].copy()\n",
    "    \n",
    "    #valitaan pyydetyt sarakkeet\n",
    "    df2 = df2[['kunta', 'maapinta-ala', 'kokonaispinta-ala', 'Väkiluku']]\n",
    "    \n",
    "    #ja järjestetään pinta-alan mukaan laskevasti\n",
    "    df2.sort_values('maapinta-ala', ascending=False, inplace=True)\n",
    "    \n",
    "    #vain 5 ekaa riviä\n",
    "    tulos = df2.head(5)\n",
    "    \n",
    "    return tulos"
   ]
  },
  {
   "cell_type": "code",
   "execution_count": 20,
   "metadata": {},
   "outputs": [
    {
     "name": "stdout",
     "output_type": "stream",
     "text": [
      "          kunta  maapinta-ala  kokonaispinta-ala  Väkiluku\n",
      "65        Jämsä       1571.36            1823.90     20607\n",
      "92       Keuruu       1257.97            1430.57      9762\n",
      "234  Saarijärvi       1251.72            1422.72      9415\n",
      "298  Viitasaari       1248.55            1589.12      6264\n",
      "63    Jyväskylä       1170.97            1466.35    141305\n"
     ]
    }
   ],
   "source": [
    "url=\"https://student.labranet.jamk.fi/~pelju/data_av/sources/kunnat.csv\"\n",
    "print(ks_kunnat(url))"
   ]
  }
 ],
 "metadata": {
  "kernelspec": {
   "display_name": "Python 3 (ipykernel)",
   "language": "python",
   "name": "python3"
  },
  "language_info": {
   "codemirror_mode": {
    "name": "ipython",
    "version": 3
   },
   "file_extension": ".py",
   "mimetype": "text/x-python",
   "name": "python",
   "nbconvert_exporter": "python",
   "pygments_lexer": "ipython3",
   "version": "3.8.12"
  }
 },
 "nbformat": 4,
 "nbformat_minor": 4
}
