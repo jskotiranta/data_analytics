{
 "cells": [
  {
   "cell_type": "code",
   "execution_count": null,
   "id": "ef21e890",
   "metadata": {},
   "outputs": [],
   "source": [
    "#H06T04\n",
    "#lineaarinen interpolaatio"
   ]
  },
  {
   "cell_type": "code",
   "execution_count": 1,
   "id": "7354b5b3",
   "metadata": {},
   "outputs": [],
   "source": [
    "def interp_times(url):\n",
    "    import pandas as pd\n",
    "    from datetime import datetime\n",
    "    from datetime import timedelta\n",
    "    \n",
    "    #luetaan data ja asetetaan indeksi\n",
    "    df = pd.read_csv(url, sep='\\t', parse_dates=[\"hh:mm:ss\"], index_col=\"hh:mm:ss\")\n",
    "    \n",
    "    #tehdään pari apusaraketta\n",
    "    df['y_2, m'] = df['y, m'].shift(-1)\n",
    "    df['t_2, s'] = df['aika, s'].shift(-1)\n",
    "    df = df.resample('5S').ffill() \n",
    "    df['t_tot, s'] = df.index.second + df.index.minute*60 + df.index.hour*3600\n",
    "    t1 = df['aika, s']\n",
    "    t2 = df['t_2, s']\n",
    "    y1 = df['y, m']\n",
    "    y2 = df['y_2, m']\n",
    "    \n",
    "    #varsinainen interpolointi\n",
    "    df['int_y, m'] = ((y2 - y1)/(t2 - t1))*(df['t_tot, s'] - t1) + y1\n",
    "    df.iloc[-1,5] = df.iloc[-1,1]\n",
    "\n",
    "    #lopuksi muotoillaan tulos\n",
    "    df.index = df.index.strftime(date_format='%H:%M:%S')\n",
    "    df = df.applymap('{:.0f}'.format)\n",
    "    tulos = df.loc['00:00:45':'00:01:31', ['t_tot, s','int_y, m']]\n",
    "    df.index.name = 'hh:mm:ss'\n",
    "\n",
    "    return tulos"
   ]
  },
  {
   "cell_type": "code",
   "execution_count": 2,
   "id": "f7b83545",
   "metadata": {},
   "outputs": [
    {
     "name": "stdout",
     "output_type": "stream",
     "text": [
      "         t_tot, s int_y, m\n",
      "hh:mm:ss                  \n",
      "00:00:45       45    17337\n",
      "00:00:50       50    17790\n",
      "00:00:55       55    18244\n",
      "00:01:00       60    18697\n",
      "00:01:05       65    18414\n",
      "00:01:10       70    18131\n",
      "00:01:15       75    17848\n",
      "00:01:20       80    16828\n",
      "00:01:25       85    15808\n",
      "00:01:30       90    14789\n"
     ]
    }
   ],
   "source": [
    "url = 'https://student.labranet.jamk.fi/~huoptu/datananal_s20/kerta6/harjoitukset/motion.csv'\n",
    "print(interp_times(url))"
   ]
  },
  {
   "cell_type": "code",
   "execution_count": null,
   "id": "b68d960d",
   "metadata": {},
   "outputs": [],
   "source": []
  }
 ],
 "metadata": {
  "kernelspec": {
   "display_name": "Python 3 (ipykernel)",
   "language": "python",
   "name": "python3"
  },
  "language_info": {
   "codemirror_mode": {
    "name": "ipython",
    "version": 3
   },
   "file_extension": ".py",
   "mimetype": "text/x-python",
   "name": "python",
   "nbconvert_exporter": "python",
   "pygments_lexer": "ipython3",
   "version": "3.8.12"
  }
 },
 "nbformat": 4,
 "nbformat_minor": 5
}
