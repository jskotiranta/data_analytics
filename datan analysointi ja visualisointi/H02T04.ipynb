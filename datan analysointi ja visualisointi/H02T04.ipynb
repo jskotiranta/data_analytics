{
 "cells": [
  {
   "cell_type": "code",
   "execution_count": null,
   "metadata": {},
   "outputs": [],
   "source": [
    "#H02T04\n",
    "#sähkön hintatietojen luokittelua"
   ]
  },
  {
   "cell_type": "code",
   "execution_count": 127,
   "metadata": {},
   "outputs": [],
   "source": [
    "def sahko(url):\n",
    "    import pandas as pd\n",
    "    import numpy as np\n",
    "    \n",
    "    data = pd.read_csv(url, sep=',', decimal='.')\n",
    "    df = pd.DataFrame(data)\n",
    "    \n",
    "    #muutetaan pisteet naniksi (ja skipataan ne, helpottaa jatkoa)\n",
    "    df[df['Year Total €/MWh'].isin([\".\"])] = np.nan\n",
    "    df.dropna(inplace=True)\n",
    "    \n",
    "    #etsitään suurin ja pienin vuotuinen hinta        \n",
    "    minprice = df['Year Total €/MWh'].min()\n",
    "    maxprice = df['Year Total €/MWh'].max()\n",
    "    \n",
    "    #luodaan sarake 'hintaluokka' ja\n",
    "    #luokitetaan viiteen hintaluokkaan alimman ja ylimmän hinnan välille\n",
    "    luokat = np.linspace(float(minprice), float(maxprice), 6)\n",
    "    df['hintaluokka'] = pd.cut(df['Year Total €/MWh'].astype(float), luokat)\n",
    "    df['hintaluokka'].sort_values()\n",
    "    \n",
    "    #lopuksi lasketaan lukumäärät\n",
    "    tulos =df['hintaluokka'].value_counts(sort=False)\n",
    "    \n",
    "    return tulos"
   ]
  },
  {
   "cell_type": "code",
   "execution_count": 128,
   "metadata": {},
   "outputs": [
    {
     "name": "stdout",
     "output_type": "stream",
     "text": [
      "(12.06, 21.256]     21\n",
      "(21.256, 30.452]    85\n",
      "(30.452, 39.648]    78\n",
      "(39.648, 48.844]    22\n",
      "(48.844, 58.04]     28\n",
      "Name: hintaluokka, dtype: int64\n"
     ]
    }
   ],
   "source": [
    "url=\"https://student.labranet.jamk.fi/~huoptu/datananal_s20/kerta2/harjoitukset/ehi_010_2020q2.csv\"\n",
    "print(sahko(url))"
   ]
  },
  {
   "cell_type": "code",
   "execution_count": null,
   "metadata": {},
   "outputs": [],
   "source": []
  }
 ],
 "metadata": {
  "kernelspec": {
   "display_name": "Python 3 (ipykernel)",
   "language": "python",
   "name": "python3"
  },
  "language_info": {
   "codemirror_mode": {
    "name": "ipython",
    "version": 3
   },
   "file_extension": ".py",
   "mimetype": "text/x-python",
   "name": "python",
   "nbconvert_exporter": "python",
   "pygments_lexer": "ipython3",
   "version": "3.8.12"
  }
 },
 "nbformat": 4,
 "nbformat_minor": 4
}
