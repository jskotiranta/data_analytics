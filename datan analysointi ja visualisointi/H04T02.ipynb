{
 "cells": [
  {
   "cell_type": "code",
   "execution_count": null,
   "id": "3b2c487b",
   "metadata": {},
   "outputs": [],
   "source": [
    "#H04T02\n",
    "#autojen ominaisuuksien ryhmittelyä"
   ]
  },
  {
   "cell_type": "code",
   "execution_count": 115,
   "id": "0263bca6",
   "metadata": {},
   "outputs": [],
   "source": [
    "def autot(url_a1, url_a2, url_b1, url_b2):\n",
    "    import pandas as pd\n",
    "    \n",
    "    #yhdistetään a- ja b-datat...\n",
    "    dfa1 = pd.read_csv(url_a1, sep=';')\n",
    "    dfa2 = pd.read_csv(url_a2, sep=';')\n",
    "    dfa = pd.concat([dfa1,dfa2])\n",
    "    dfb1 = pd.read_csv(url_b1, sep=';')\n",
    "    dfb2 = pd.read_csv(url_b2, sep=';')\n",
    "    dfb = pd.concat([dfb1,dfb2])\n",
    "    \n",
    "    #...ja tehdään yksi df jonka kanssa jatketaan\n",
    "    df = pd.merge(dfa,dfb, on='ID')\n",
    "    \n",
    "    #korvataan nanit nollilla\n",
    "    df['ep (KW)'] = df['ep (KW)'].fillna(0)\n",
    "    \n",
    "    #ryhmitellään merkin mukaan ja lasketaan keskiarvot\n",
    "    tulos = df.groupby(['Mh', 'ep (KW)'], as_index=False).mean()\n",
    "    \n",
    "    #sortataan tehon mukaan\n",
    "    tulos = tulos.sort_values('ep (KW)', ascending=False)\n",
    "    \n",
    "    #siistitään tulostus\n",
    "    tulos = tulos[['Mh', 'ep (KW)']]\n",
    "    tulos = tulos.head(5)\n",
    "    \n",
    "    return tulos"
   ]
  },
  {
   "cell_type": "code",
   "execution_count": 116,
   "id": "60da2d56",
   "metadata": {},
   "outputs": [
    {
     "name": "stdout",
     "output_type": "stream",
     "text": [
      "                 Mh  ep (KW)\n",
      "3            AA-IVA    447.0\n",
      "59            TESLA    386.0\n",
      "2            AA-IVA    339.0\n",
      "58            SKODA    206.0\n",
      "26  FORD WERKE GMBH    184.0\n"
     ]
    }
   ],
   "source": [
    "url_a1=\"https://student.labranet.jamk.fi/~huoptu/datananal_s20/kerta4/harjoitukset/autotA1.csv\"\n",
    "url_a2=\"https://student.labranet.jamk.fi/~huoptu/datananal_s20/kerta4/harjoitukset/autotA2.csv\"\n",
    "url_b1=\"https://student.labranet.jamk.fi/~huoptu/datananal_s20/kerta4/harjoitukset/autotB1.csv\"\n",
    "url_b2=\"https://student.labranet.jamk.fi/~huoptu/datananal_s20/kerta4/harjoitukset/autotB2.csv\"\n",
    "\n",
    "print(autot(url_a1, url_a2, url_b1, url_b2))"
   ]
  },
  {
   "cell_type": "code",
   "execution_count": null,
   "id": "8b74b7d7",
   "metadata": {},
   "outputs": [],
   "source": []
  }
 ],
 "metadata": {
  "kernelspec": {
   "display_name": "Python 3 (ipykernel)",
   "language": "python",
   "name": "python3"
  },
  "language_info": {
   "codemirror_mode": {
    "name": "ipython",
    "version": 3
   },
   "file_extension": ".py",
   "mimetype": "text/x-python",
   "name": "python",
   "nbconvert_exporter": "python",
   "pygments_lexer": "ipython3",
   "version": "3.8.12"
  }
 },
 "nbformat": 4,
 "nbformat_minor": 5
}
