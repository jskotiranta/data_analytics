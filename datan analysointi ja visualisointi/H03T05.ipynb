{
 "cells": [
  {
   "cell_type": "code",
   "execution_count": null,
   "id": "1760fd2a",
   "metadata": {},
   "outputs": [],
   "source": [
    "#H03T05\n",
    "#suurimmat kokonaispäästöt maittain"
   ]
  },
  {
   "cell_type": "code",
   "execution_count": 68,
   "id": "1c877dad",
   "metadata": {},
   "outputs": [],
   "source": [
    "def emissions(url):\n",
    "    import pandas as pd\n",
    "    \n",
    "    #tehdään taas frame huonosti muotoillusta tiedostosta\n",
    "    df = pd.read_csv(url, sep='\\t', engine='python')\n",
    "    sarake = 'country\\tcountry_code\\tETS information\\tmain activity sector name\\tunit\\tvalue\\tyear'\n",
    "    splittaus = df[sarake].str.split('\\t').str\n",
    "    uusi_df_pohja = {'country_code' : splittaus[1], 'main activity sector': splittaus[3], 'value' : splittaus[5], 'year' : splittaus[6]}\n",
    "    df1 = pd.DataFrame(uusi_df_pohja)\n",
    "    \n",
    "    #poistetaan halutut rivit\n",
    "    df1.drop(df1.loc[df1['main activity sector'] == '20-99 All stationary installations'].index, inplace=True)\n",
    "    df1.drop(df1.loc[df1['main activity sector'] == '21-99 All industrial installations (excl. combustion)'].index, inplace=True)\n",
    "    \n",
    "    #poimitaan uuteen frameen halutut vuodet\n",
    "    #aluksi sarake täytyy muuttaa numeeriseksi että vertailu onnistuu\n",
    "    df1['year'] = pd.to_numeric(df1['year'], errors = 'coerce')\n",
    "    df2 = df1.loc[df1['year'] >= 2010]\n",
    "    df2 = df2.loc[df1['year'] <= 2015]\n",
    "    \n",
    "    #lasketaan eri maiden vuotuiset päästöt uuteen frameen\n",
    "    df2['value'] = pd.to_numeric(df2['value'], errors = 'coerce')\n",
    "    df3 = df2.groupby(['country_code','year'], as_index=False)['value'].sum()\n",
    "    \n",
    "    #poimitaan kunkin maan suurimman päästön vuosi ja määrä\n",
    "    #sitten laitetaan saastuttajat suuruusjärjestykseen\n",
    "    #helppoa ja hauskaa\n",
    "    paastomax = df3.groupby(['country_code'])['value'].idxmax()\n",
    "    df4 = df3.loc[paastomax]\n",
    "    df4.sort_values('value', ascending=False, inplace=True)\n",
    "    \n",
    "    #vaadittua tulostusta varten nimetään sarake uudelleen\n",
    "    #ja numeroarvot automaattitarkastuksen haluamaan muotoon\n",
    "    df4.rename(columns = {'country_code': 'ccode'}, inplace=True)\n",
    "    df4['year'] = df4['year'].astype(int)\n",
    "    df4['value'] = df4['value'].map('{:e}'.format)\n",
    "    \n",
    "    #muotoillaan lopullinen tuloste\n",
    "    tulos = df4[['ccode','year','value']].head(5)\n",
    "    \n",
    "    return tulos"
   ]
  },
  {
   "cell_type": "code",
   "execution_count": 69,
   "id": "01196748",
   "metadata": {},
   "outputs": [
    {
     "name": "stdout",
     "output_type": "stream",
     "text": [
      "    ccode  year         value\n",
      "31     DE  2011  1.837570e+09\n",
      "68     GB  2012  9.973063e+08\n",
      "104    IT  2012  7.604445e+08\n",
      "151    PL  2011  7.557359e+08\n",
      "62     FR  2012  3.456367e+08\n"
     ]
    }
   ],
   "source": [
    "#url=\"https://student.labranet.jamk.fi/~huoptu/datananal_s20/kerta3/harjoitukset/ETS_Database_v38A.csv\"\n",
    "url=\"https://student.labranet.jamk.fi/~huoptu/datananal_s20/kerta3/harjoitukset/ETS_Database_v38B.csv\"\n",
    "print(emissions(url))"
   ]
  },
  {
   "cell_type": "code",
   "execution_count": null,
   "id": "6c3895ad",
   "metadata": {},
   "outputs": [],
   "source": []
  }
 ],
 "metadata": {
  "kernelspec": {
   "display_name": "Python 3 (ipykernel)",
   "language": "python",
   "name": "python3"
  },
  "language_info": {
   "codemirror_mode": {
    "name": "ipython",
    "version": 3
   },
   "file_extension": ".py",
   "mimetype": "text/x-python",
   "name": "python",
   "nbconvert_exporter": "python",
   "pygments_lexer": "ipython3",
   "version": "3.8.12"
  }
 },
 "nbformat": 4,
 "nbformat_minor": 5
}
