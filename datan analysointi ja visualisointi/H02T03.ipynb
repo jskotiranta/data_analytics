{
 "cells": [
  {
   "cell_type": "code",
   "execution_count": null,
   "metadata": {},
   "outputs": [],
   "source": [
    "#H02T03\n",
    "#kuntien suodatusta vesialan suhteen"
   ]
  },
  {
   "cell_type": "code",
   "execution_count": 5,
   "metadata": {},
   "outputs": [],
   "source": [
    "def vesiala(url):\n",
    "    import pandas as pd\n",
    "    #moodlepalautusta varten poistetaan syntyvä varoitus\n",
    "    import warnings\n",
    "    warnings.filterwarnings(\"ignore\")\n",
    "    \n",
    "    df = pd.read_csv(url, sep=';', decimal=',')\n",
    "    \n",
    "    df2 = df[df['kuntamuoto'] == 'Kaupunki'].copy()\n",
    "    df3 = df2[(df['maakunta'] == 'Varsinais-Suomi') | (df['maakunta'] == 'Etelä-Savo')].copy()\n",
    "    \n",
    "    df3['vesipinta-ala'] = df3['kokonaispinta-ala'] - df3['maapinta-ala']\n",
    "    \n",
    "    #sorttaus\n",
    "    df3.sort_values(['vesipinta-ala'], ascending=False, inplace=True)\n",
    "    \n",
    "    #tulosteeseen halutut sarakkeet ja rivit\n",
    "    df3 = df3[['kunta', 'maakunta', 'vesipinta-ala', 'kokonaispinta-ala', 'Väkiluku']]\n",
    "    tulos = df3.head(5)\n",
    "    \n",
    "    return tulos"
   ]
  },
  {
   "cell_type": "code",
   "execution_count": 6,
   "metadata": {},
   "outputs": [
    {
     "name": "stdout",
     "output_type": "stream",
     "text": [
      "            kunta         maakunta  vesipinta-ala  kokonaispinta-ala  Väkiluku\n",
      "185      Parainen  Varsinais-Suomi        4664.99            5548.11     15217\n",
      "286  Uusikaupunki  Varsinais-Suomi        1429.68            1932.43     15700\n",
      "241    Savonlinna       Etelä-Savo        1359.61            3597.70     33611\n",
      "157       Mikkeli       Etelä-Savo         681.21            3229.57     53818\n",
      "168      Naantali  Varsinais-Suomi         375.56             688.01     19245\n"
     ]
    }
   ],
   "source": [
    "url=\"https://student.labranet.jamk.fi/~pelju/data_av/sources/kunnat.csv\"\n",
    "print(vesiala(url))"
   ]
  },
  {
   "cell_type": "code",
   "execution_count": null,
   "metadata": {},
   "outputs": [],
   "source": []
  }
 ],
 "metadata": {
  "kernelspec": {
   "display_name": "Python 3 (ipykernel)",
   "language": "python",
   "name": "python3"
  },
  "language_info": {
   "codemirror_mode": {
    "name": "ipython",
    "version": 3
   },
   "file_extension": ".py",
   "mimetype": "text/x-python",
   "name": "python",
   "nbconvert_exporter": "python",
   "pygments_lexer": "ipython3",
   "version": "3.8.12"
  }
 },
 "nbformat": 4,
 "nbformat_minor": 4
}
