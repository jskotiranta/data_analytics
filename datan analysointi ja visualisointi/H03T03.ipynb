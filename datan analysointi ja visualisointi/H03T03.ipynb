{
 "cells": [
  {
   "cell_type": "code",
   "execution_count": null,
   "id": "29502549",
   "metadata": {},
   "outputs": [],
   "source": [
    "#H03T03\n",
    "#harvinaisimmat suurimmat saastuttajat"
   ]
  },
  {
   "cell_type": "code",
   "execution_count": 57,
   "id": "c24c8c7f",
   "metadata": {},
   "outputs": [],
   "source": [
    "def emissions(url):\n",
    "    import pandas as pd\n",
    "    \n",
    "    #luodaan harvinaisen huonosti muotoillusta tiedostosta käyttistä\n",
    "    #tää voi olla joskus oikeasti hyödyllinen kikka\n",
    "    df = pd.read_csv(url, sep='\\t', engine='python')\n",
    "    sarake = 'country\\tcountry_code\\tETS information\\tmain activity sector name\\tunit\\tvalue\\tyear'\n",
    "    splittaus = df[sarake].str.split('\\t').str\n",
    "    uusi_df_pohja = {'country' : splittaus[0], 'main activity sector': splittaus[3]}\n",
    "    df1 = pd.DataFrame(uusi_df_pohja)\n",
    "    \n",
    "    #poistetaan halutut rivit\n",
    "    #ihan selkeyden nimissä kahdella eri rivillä\n",
    "    df1.drop(df1.loc[df1['main activity sector'] == '20-99 All stationary installations'].index, inplace=True)\n",
    "    df1.drop(df1.loc[df1['main activity sector'] == '21-99 All industrial installations (excl. combustion)'].index, inplace=True)\n",
    "    \n",
    "    #vaadittua tulostusta varten nimetään sarake uudelleen\n",
    "    df1.rename(columns = {'main activity sector': 'sector'}, inplace=True)\n",
    "    \n",
    "    #lasketaan eri päästölähteiden määrät\n",
    "    #sort=True on oikeasti turha tässä, mutta onpahan muistutuksena\n",
    "    df2 = df1['sector'].value_counts(sort=True, ascending=True)\n",
    "    \n",
    "    #ja muotoillaan tuloste\n",
    "    tulos = df2.head(5)\n",
    "    \n",
    "    return tulos"
   ]
  },
  {
   "cell_type": "code",
   "execution_count": 56,
   "id": "94707686",
   "metadata": {},
   "outputs": [
    {
     "name": "stdout",
     "output_type": "stream",
     "text": [
      "45 Capture of greenhouse gases under Directive 2009/31/EC       14\n",
      "46 Transport of greenhouse gases under Directive 2009/31/EC     22\n",
      "40 Production of glyoxal and glyoxylic acid                     37\n",
      "39 Production of adipic acid                                    43\n",
      "44 Production of soda ash and sodium bicarbonate               325\n",
      "Name: sector, dtype: int64\n"
     ]
    }
   ],
   "source": [
    "url=\"https://student.labranet.jamk.fi/~huoptu/datananal_s20/kerta3/harjoitukset/ETS_Database_v38A.csv\"\n",
    "print(emissions(url))"
   ]
  },
  {
   "cell_type": "code",
   "execution_count": null,
   "id": "0b32ffcc",
   "metadata": {},
   "outputs": [],
   "source": []
  }
 ],
 "metadata": {
  "kernelspec": {
   "display_name": "Python 3 (ipykernel)",
   "language": "python",
   "name": "python3"
  },
  "language_info": {
   "codemirror_mode": {
    "name": "ipython",
    "version": 3
   },
   "file_extension": ".py",
   "mimetype": "text/x-python",
   "name": "python",
   "nbconvert_exporter": "python",
   "pygments_lexer": "ipython3",
   "version": "3.8.12"
  }
 },
 "nbformat": 4,
 "nbformat_minor": 5
}
