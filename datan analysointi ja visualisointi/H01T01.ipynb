{
 "cells": [
  {
   "cell_type": "code",
   "execution_count": 1,
   "metadata": {},
   "outputs": [],
   "source": [
    "#H01T01\n",
    "#kulma + kantama --> nopeus"
   ]
  },
  {
   "cell_type": "code",
   "execution_count": 1,
   "metadata": {},
   "outputs": [],
   "source": [
    "def nopeus(kulma,kantama):\n",
    "    import numpy as np\n",
    "    \n",
    "    #muutetaan aluksi kulma radiaaneiksi\n",
    "    kulma_np = np.array(kulma)\n",
    "    kulma_rad = np.radians(kulma_np)\n",
    "    \n",
    "    #sitten nopeus kaavasta\n",
    "    kantama_np = np.array(kantama)/100 #tarvitaan yksikkömuutos\n",
    "    nopeus = np.sqrt((kantama_np*9.82)/np.sin(2*kulma_rad))\n",
    "    \n",
    "    return nopeus"
   ]
  },
  {
   "cell_type": "code",
   "execution_count": 2,
   "metadata": {},
   "outputs": [
    {
     "name": "stdout",
     "output_type": "stream",
     "text": [
      "[1.70138547 1.74679012 1.78097164 1.79465625 1.78237724]\n"
     ]
    }
   ],
   "source": [
    "#syötteet\n",
    "kulma = [35, 40, 45, 50, 55]\n",
    "kantama = [27.7, 30.6, 32.3, 32.3, 30.4]\n",
    "\n",
    "print(nopeus(kulma,kantama))"
   ]
  },
  {
   "cell_type": "code",
   "execution_count": null,
   "metadata": {},
   "outputs": [],
   "source": []
  }
 ],
 "metadata": {
  "kernelspec": {
   "display_name": "Python 3",
   "language": "python",
   "name": "python3"
  },
  "language_info": {
   "codemirror_mode": {
    "name": "ipython",
    "version": 3
   },
   "file_extension": ".py",
   "mimetype": "text/x-python",
   "name": "python",
   "nbconvert_exporter": "python",
   "pygments_lexer": "ipython3",
   "version": "3.8.3"
  }
 },
 "nbformat": 4,
 "nbformat_minor": 4
}
