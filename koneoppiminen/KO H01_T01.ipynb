{
 "cells": [
  {
   "cell_type": "code",
   "execution_count": null,
   "id": "6f230bc2",
   "metadata": {},
   "outputs": [],
   "source": [
    "#H01T01\n",
    "#keskiarvo ja mediaani"
   ]
  },
  {
   "cell_type": "code",
   "execution_count": 1,
   "id": "95eabe31",
   "metadata": {},
   "outputs": [],
   "source": [
    "def keskiarvo(lista):\n",
    "    tulos = sum(lista)/len(lista)\n",
    "    return tulos\n",
    "\n",
    "def mediaani(lista):\n",
    "    n = len(lista)\n",
    "    for i in range(0,n): #järjestämiseen bubble-sort\n",
    "        for j in range(0,n-i-1):\n",
    "            if lista[j] > lista[j+1]:\n",
    "                lista[j], lista[j+1] = lista[j+1], lista[j]\n",
    "    ind = n//2 #järjestetyn listan keskimmäinen indeksi\n",
    "    if n % 2:\n",
    "        tulos = lista[ind] #pariton lista\n",
    "    else:\n",
    "        tulos = (lista[ind-1] + lista[ind+1]) / 2 #parillinen lista\n",
    "    return tulos"
   ]
  },
  {
   "cell_type": "code",
   "execution_count": 2,
   "id": "6cfa2170",
   "metadata": {},
   "outputs": [
    {
     "name": "stdout",
     "output_type": "stream",
     "text": [
      "38.0\n",
      "38\n"
     ]
    }
   ],
   "source": [
    "lista = [18, 21, 29, 38, 49, 60, 62, 23, 32, 41, 45]\n",
    "print(keskiarvo(lista))\n",
    "print(mediaani(lista))"
   ]
  },
  {
   "cell_type": "code",
   "execution_count": null,
   "id": "065f2807",
   "metadata": {},
   "outputs": [],
   "source": []
  }
 ],
 "metadata": {
  "kernelspec": {
   "display_name": "Python 3 (ipykernel)",
   "language": "python",
   "name": "python3"
  },
  "language_info": {
   "codemirror_mode": {
    "name": "ipython",
    "version": 3
   },
   "file_extension": ".py",
   "mimetype": "text/x-python",
   "name": "python",
   "nbconvert_exporter": "python",
   "pygments_lexer": "ipython3",
   "version": "3.8.12"
  }
 },
 "nbformat": 4,
 "nbformat_minor": 5
}
