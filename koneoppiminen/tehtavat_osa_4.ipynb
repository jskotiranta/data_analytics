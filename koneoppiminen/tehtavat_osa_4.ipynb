{
 "cells": [
  {
   "cell_type": "markdown",
   "metadata": {},
   "source": [
    "# Koneoppiminen: Osa 4: Tukivektorikone"
   ]
  },
  {
   "cell_type": "code",
   "execution_count": null,
   "metadata": {
    "tags": [
     "student_info"
    ]
   },
   "outputs": [],
   "source": [
    "# Kirjoita tähän tietosi!\n",
    "student_name = 'Samuli Kotiranta'\n",
    "student_id = 'AB8349'"
   ]
  },
  {
   "cell_type": "markdown",
   "metadata": {},
   "source": [
    "## Tehtävä 1\n",
    "### Aihe: Pulsariaineisto (3 pistettä)\n",
    "\n",
    "Pulsareita käsittelevä aineisto osoitteesta https://archive.ics.uci.edu/ml/datasets/HTRU2 . Tavoitteena on luokitella aineiston datapisteet joko pulsariksi tai muunlaiseksi kohteeksi. Aineistossa on luokkamuuttuja viimeisessä sarakkeessa. \n",
    "\n",
    "1. Lataa aineisto DataFrameen. \n",
    "2. Nimeä DataFramen sarakkeet aineiston mukaisesti. Sarakkeiden nimet näet esimerkiksi `.arff`-tiedoston otsakkeesta.  \n",
    "3. Normalisoi sarakkeiden arvot. "
   ]
  },
  {
   "cell_type": "code",
   "execution_count": 1,
   "metadata": {},
   "outputs": [],
   "source": [
    "# Kirjoita toteutuksesi tähän soluun. \n",
    "\n",
    "import pandas as pd\n",
    "from scipy.io.arff import loadarff\n",
    "\n",
    "# Datan lataaminen\n",
    "data = 'HTRU_2.csv'\n",
    "df = pd.read_csv(data, header=None)\n",
    "\n",
    "# Sarakkeiden nimeäminen\n",
    "arff = loadarff('HTRU_2.arff')\n",
    "names_data = pd.DataFrame(arff[0])\n",
    "df.columns = list(names_data.columns.values)\n",
    "\n",
    "# Sarakkeiden arvojen normalisointi.\n",
    "# Tätä ei pidä tehdä ennen datasetin jakamista!\n",
    "# Tehdään tuossa alempana"
   ]
  },
  {
   "cell_type": "code",
   "execution_count": 2,
   "metadata": {
    "tags": [
     "answer_4_1"
    ]
   },
   "outputs": [
    {
     "name": "stdout",
     "output_type": "stream",
     "text": [
      "Columns: Index(['Profile_mean', 'Profile_stdev', 'Profile_skewness', 'Profile_kurtosis',\n",
      "       'DM_mean', 'DM_stdev', 'DM_skewness', 'DM_kurtosis', 'class'],\n",
      "      dtype='object')\n",
      "First row by position: Profile_mean        140.562500\n",
      "Profile_stdev        55.683782\n",
      "Profile_skewness     -0.234571\n",
      "Profile_kurtosis     -0.699648\n",
      "DM_mean               3.199833\n",
      "DM_stdev             19.110426\n",
      "DM_skewness           7.975532\n",
      "DM_kurtosis          74.242225\n",
      "class                 0.000000\n",
      "Name: 0, dtype: float64\n"
     ]
    }
   ],
   "source": [
    "# Tehtävän vastaukset. Huom! Älä muokkaa tätä solua, vaan aja se, kun olet suorittanut tehtävän. \n",
    "# DataFramen tulisi olla df-muuttujassa. \n",
    "print(f'Columns: {df.columns}')\n",
    "print(f'First row by position: {df.iloc[0]}')"
   ]
  },
  {
   "cell_type": "markdown",
   "metadata": {},
   "source": [
    "# oma kommentti\n",
    "Tässä vastaan tullut `.arff` olikin uusi tuttavuus. Sitä varten ladattiin valmis funktio `scipy`-kirjastosta. Kokeilin aluksi ladata datoja suoraan zipistä, mutta se meni turhan kikkailuksi."
   ]
  },
  {
   "cell_type": "markdown",
   "metadata": {},
   "source": [
    "## Tehtävä 2\n",
    "### Aihe: Koulutus- ja testausaineisto (3 pistettä)\n",
    "\n",
    "Jaa aineisto koulutus- ja testausaineistoon käyttäen `scikit-learn`-kirjaston [train_test_split](https://scikit-learn.org/stable/modules/generated/sklearn.model_selection.train_test_split.html)-funktiota. Laita puolet aineistosta (_50 %_ ja _50 %_) kumpaankin.\n",
    "\n",
    "1. Tallenna koulutusaineisto ja sen luokkamuuttuja muuttujiin `X_train`, `y_train`,\n",
    "2. Tallenna testausaineiston muuttujiin `X_test`, `y_test`.\n",
    "\n",
    "Käytä satunnaissiemenenä lukua `1492` ja testiaineiston kokoa 50%."
   ]
  },
  {
   "cell_type": "code",
   "execution_count": 3,
   "metadata": {},
   "outputs": [],
   "source": [
    "# Kirjoita toteutuksesi tähän soluun. \n",
    "from sklearn.model_selection import train_test_split\n",
    "from sklearn.preprocessing import StandardScaler\n",
    "\n",
    "#luokkamuuttujan eristäminen ja aineiston splittaus\n",
    "X = df.drop(columns='class')\n",
    "y = df['class']\n",
    "X_train, X_test, y_train, y_test = train_test_split(X, y, test_size=0.5, random_state=1492)\n",
    "\n",
    "#nyt tehdään skaalaus\n",
    "sts = StandardScaler().fit(X_train)\n",
    "X_train = pd.DataFrame(sts.transform(X_train))\n",
    "X_test = pd.DataFrame(sts.transform(X_test))"
   ]
  },
  {
   "cell_type": "code",
   "execution_count": 4,
   "metadata": {
    "tags": [
     "answer_4_2"
    ]
   },
   "outputs": [
    {
     "name": "stdout",
     "output_type": "stream",
     "text": [
      "X_train: 8949\n",
      "X_test: 8949\n",
      "y_train: 8949\n",
      "y_test: 8949\n"
     ]
    }
   ],
   "source": [
    "# Tehtävän vastaukset. Huom! Älä muokkaa tätä solua, vaan aja se, kun olet suorittanut tehtävän. \n",
    "print(f'X_train: {len(X_train)}')\n",
    "print(f'X_test: {len(X_test)}')\n",
    "print(f'y_train: {len(y_train)}')\n",
    "print(f'y_test: {len(y_test)}')"
   ]
  },
  {
   "cell_type": "markdown",
   "metadata": {},
   "source": [
    "# oma kommentti\n",
    "Tässä on käytössä nyt `StandardScaler` koska tukivekorikone matemaattisena entiteettinä olettaa piirteiden odotusarvon olevan nollassa ja varianssien keskenään samaa luokkaa. Fysiikan osalta voitaisiin lisäksi huomauttaa, että tässä aineistossa yksittäiset mittaukset ovat enemmän tai vähemmän gaussista muotoa. Jakoa ei tehty aikaisemmassa kohdassa, sillä ennen aineiston jakoa kokonaisaineiston informaatiota olisi skaalauksessa välittynyt opetus- ja testijoukkoihin."
   ]
  },
  {
   "cell_type": "markdown",
   "metadata": {},
   "source": [
    "## Tehtävä 3\n",
    "### Aihe: Tukivektorikone (4 pistettä)\n",
    "\n",
    "1. Käytä `scikit-learn`-kirjaston *Linear Support Vector Classification* -funktiota kouluttaaksesi koulutusaineistollasi luokittelija, joka erottelee pulsarit muista kohteista. \n",
    "\n",
    "2. Luo ennusteet testausaineistosi datapisteille `y_pred`-muuttujaan. \n",
    "\n",
    "3. Tee `metrics`-moduulilla [luokitteluraportti](https://scikit-learn.org/stable/modules/generated/sklearn.metrics.classification_report.html) testausaineistosi ennusteille. Tallenna raportti `cr`-muuttujaan. Kannattaa myös tulostaa se, jotta näet itse tulokset. \n",
    "\n",
    "4. Tee `metrics`-moduulilla **sekaannusmatriisi** (_confusion matrix_) ja tallenna se `cm`-muuttujaan."
   ]
  },
  {
   "cell_type": "code",
   "execution_count": 10,
   "metadata": {},
   "outputs": [],
   "source": [
    "# Kirjoita toteutuksesi tähän soluun. \n",
    "\n",
    "from sklearn.svm import LinearSVC\n",
    "from sklearn.metrics import classification_report, confusion_matrix\n",
    "\n",
    "#tukivektorikone lineaarisella kernelifunktiolla\n",
    "svm = LinearSVC(max_iter=3000) #iterointikertoen määrä ei saa olla kovin pieni\n",
    "svm.fit(X_train, y_train)\n",
    "\n",
    "y_pred = svm.predict(X_test)\n",
    "\n",
    "#luokitteluraportti ja sekaannusmatriisi\n",
    "cr = classification_report(y_test, y_pred)\n",
    "cm = confusion_matrix(y_test, y_pred)\n",
    "#print(cr)"
   ]
  },
  {
   "cell_type": "code",
   "execution_count": 11,
   "metadata": {
    "tags": [
     "answer_4_3"
    ]
   },
   "outputs": [
    {
     "name": "stdout",
     "output_type": "stream",
     "text": [
      "Classification report:\n",
      "               precision    recall  f1-score   support\n",
      "\n",
      "           0       0.98      0.99      0.99      8140\n",
      "           1       0.94      0.81      0.87       809\n",
      "\n",
      "    accuracy                           0.98      8949\n",
      "   macro avg       0.96      0.90      0.93      8949\n",
      "weighted avg       0.98      0.98      0.98      8949\n",
      "\n",
      "Confusion matrix:\n",
      " [[8097   43]\n",
      " [ 156  653]]\n"
     ]
    }
   ],
   "source": [
    "# Tehtävän vastaukset. Huom! Älä muokkaa tätä solua, vaan aja se, kun olet suorittanut tehtävän. \n",
    "# Tulokset ovat cm- ja cr-muuttujissa. \n",
    "print(f'Classification report:\\n {cr}')\n",
    "print(f'Confusion matrix:\\n {cm}')"
   ]
  },
  {
   "cell_type": "markdown",
   "metadata": {},
   "source": [
    "# oma kommentti\n",
    "Tarkkuus jolla lineaarinen tukivektorikone tunnisti pulsarin pulsariksi (0.94) on vielä ihan kohtuullinen. Sensitiivisyydessä (0.81) on sen sijaan toivomisen varaa ja hutejahan tässä tulikin nyt 156 kappaletta, mikä aivan varmasti harmittaisi tutkijaa. Vastaava `F1 score`, tuttavallisemmin Sørensenin–Dicen kerroin, jää melko pieneksi. Tämä on tosin odotettavissakin, koska se ei huomioi oikein menneitä negatiivisia luokitteluja ja negatiivisiahan tässä datassa on kymmenkertainen määrä positiivisiin verrattuna. Negatiivisten osalta luokittelu näyttää (tämän tulkinnassa pitää varoa perustasoharhaa) onnistuneen hyvin, mikä ei myöskään yllätä, koska niitä on niin suuri enemmistö."
   ]
  },
  {
   "cell_type": "code",
   "execution_count": null,
   "metadata": {},
   "outputs": [],
   "source": []
  }
 ],
 "metadata": {
  "kernelspec": {
   "display_name": "Python 3 (ipykernel)",
   "language": "python",
   "name": "python3"
  },
  "language_info": {
   "codemirror_mode": {
    "name": "ipython",
    "version": 3
   },
   "file_extension": ".py",
   "mimetype": "text/x-python",
   "name": "python",
   "nbconvert_exporter": "python",
   "pygments_lexer": "ipython3",
   "version": "3.8.12"
  }
 },
 "nbformat": 4,
 "nbformat_minor": 4
}
